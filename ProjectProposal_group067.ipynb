{
 "cells": [
  {
   "cell_type": "markdown",
   "metadata": {},
   "source": [
    "# COGS 108 - Project Proposal"
   ]
  },
  {
   "cell_type": "markdown",
   "metadata": {},
   "source": [
    "# Names\n",
    "\n",
    "- Alex Franz\n",
    "- Bryant Tan\n",
    "- Cole Carter\n",
    "- Henri Schulz"
   ]
  },
  {
   "cell_type": "markdown",
   "metadata": {},
   "source": [
    "# Research Question"
   ]
  },
  {
   "cell_type": "markdown",
   "metadata": {},
   "source": [
    "Does receiving an undergraduate degree from a top-20 United States engineering university improve career success in the tech industry in the United States as oppposed to receiving an undergraduate degree from a top-100 engineering university when career success is measured by mid-career salary, their job satisfaction, their job security, and their work-life balance?\n",
    "\n"
   ]
  },
  {
   "cell_type": "markdown",
   "metadata": {},
   "source": [
    "## Background and Prior Work"
   ]
  },
  {
   "cell_type": "markdown",
   "metadata": {},
   "source": [
    "### Introduction to the Topic\n",
    "\n",
    "The influence of the prestige of a university on career success is a significant area of research, especially in fields like engineering where educational pedigree may impact job opportunities and earnings potential. The discussion typically revolves around whether the advantages of attending a top-tier university, such as enhanced learning environments, better networking opportunities, and elevated prestige, translate into tangible career benefits like higher salaries, job satisfaction, and overall career advancement.\n",
    "\n",
    "### Prior Research and Findings\n",
    "\n",
    "An article provided by NBC News notes significant differences in starting salaries among graduates from universities of varying prestige. For instance, graduates from the University of Southern California have a notable starting salary advantage over those from lesser-known institutions and that graduates from Yale have an average starting salary of \\$68,300, significantly higher than the \\$32,000 starting salary for graduates from Mississippi Valley State University. <sup id=\"cite_ref-1\">[1](#cite_note-1)</sup> This highlights the economic benefit of attending more prestigious universities.\n",
    "\n",
    "Previous research has provided mixed insights into the relationship between university ranking and career success. A study by Dale and Krueger (2014) found that for most students, the selectivity of the college they attend does not affect their earnings significantly after controlling for the competitiveness of the student—defined as their academic and extracurricular achievements prior to college. However, for subgroups such as students from disadvantaged backgrounds, the prestige of the institution did have a positive impact on earnings potential. <sup id=\"cite_ref-2\">[2](#cite_note-2)</sup>\n",
    "\n",
    "Further compounding this view, research from the National Center for Education Statistics (NCES) suggests that college quality, as measured by resources and educational conditions, does correlate with higher earnings post-graduation. <sup id=\"cite_ref-3\">[3](#cite_note-3)</sup> This correlation persists even when accounting for student backgrounds and labor market conditions, indicating that the institution's characteristics independently contribute to the career outcomes of its graduates​​.\n",
    "\n",
    "Additionally, a study exploring the quality of working life among university academics reveals that work-life balance, job and career satisfaction, and working conditions significantly affect employee commitment and stress levels, ultimately impacting overall well-being. It emphasizes that higher-ranked universities tend to offer better job security and more supportive working conditions, which not only enhance personal well-being but also improve job satisfaction <sup id=\"cite_ref-4\">[4](#cite_note-4)</sup> This research underscores the importance of university environment and job security, particularly in contrasting permanent versus temporary academic roles, and highlights the subtle effects of university prestige not only on earnings but also on job satisfaction and personal well-being.\n",
    "\n",
    "### Relevance to Current Project\n",
    "\n",
    "This previous work sets a foundational understanding that while the reputation of an educational institution may not universally guarantee better job prospects or earnings, it does provide certain groups with measurable advantages. The current project can build on these findings by more specifically analyzing how these outcomes vary among engineering graduates, where the impact of a university's rank might be more pronounced due to the technical and often competitive nature of the field.\n",
    "\n",
    "### References\n",
    "\n",
    "- <sup id=\"cite_note-1\">1</sup> Dale, S. B., & Krueger, A. B. (2014). *Estimating the Return to College Selectivity over the Career Using Administrative Earning Data*. Journal of Human Resources.\n",
    "- <sup id=\"cite_note-2\">2</sup> National Center for Education Statistics (NCES). *College Quality and the Earnings of Recent College Graduates*. U.S. Department of Education.\n",
    "- <sup id=\"cite_note-3\">3</sup> [NBC News](https://www.nbcnews.com/business/business-news/does-it-even-matter-where-you-go-college-here-s-n982851). Report on the influence of university prestige on starting salaries and career success.\n",
    "- <sup id=\"cite_note-4\">4</sup> Fontinha, R., Van Laar, D., & Easton, S. (2018). *Quality of working life of academics and researchers in the UK: the roles of contract type, tenure and university ranking*. Studies in Higher Education, 43(4), 786–806.\n"
   ]
  },
  {
   "cell_type": "markdown",
   "metadata": {},
   "source": [
    "# Hypothesis\n"
   ]
  },
  {
   "cell_type": "markdown",
   "metadata": {},
   "source": [
    "We hypothesize that getting a degree from a top-20 engineering university in the United States will not improve an individual's career success beyond that of a recipient of the top 100 engineering schools. This is because the quality of education is similar at the top 100 schools, and other factors such as connections, creativity, and personality will have a stronger impact on career success than where people received their undergraduate degree."
   ]
  },
  {
   "cell_type": "markdown",
   "metadata": {},
   "source": [
    "# Data"
   ]
  },
  {
   "cell_type": "markdown",
   "metadata": {},
   "source": [
    "Our ideal dataset would include data regarding college attended as well as data concerning measures of success. Somem variables includes career satisfaction, starting salary, retirement age, peak career salary, work-life balance, work-related anxiety, burnout, work benefits, etc. Ideally, we would like a very large data set, which would be at least 50 observations per college. More observations is better since we would like to have many data points per college we analyze. This data can be collected by conducting surveys during college and following up after college, however the issue is gatherings these observations. Sites such as Kaggle can provide generated data as well as real data for use to perform our EDA. Generally, time series data like this is hard to come by, but we can potentially utilize data from university datasets concerning alumni data. \n",
    "\n",
    "Here are a few examples of ideal datasets we could pull data from.\n",
    "\n",
    "- https://www.kaggle.com/datasets/mohamedharris/employee-satisfaction-index-dataset\n",
    "    - This dataset includes some employee satisfaction metrics.\n",
    "- https://www.kaggle.com/datasets/wsj/college-salaries\n",
    "    - This dataset has data regarding salaries of top colleges; \"colleges that pay\".\n",
    "- https://grad.ucsd.edu/about/grad-data/index.html\n",
    "    - This site contains data regarding UCSD alumni. Data like this from multiple colleges would be useful for our study. \n",
    "\n",
    "Storing/ organizing this data would consist of lots of data wrangling to create our dataframes we need to perform our analysis. We'll use pandas and numpy to perform this organization. "
   ]
  },
  {
   "cell_type": "markdown",
   "metadata": {},
   "source": [
    "# Ethics & Privacy"
   ]
  },
  {
   "cell_type": "markdown",
   "metadata": {},
   "source": [
    "When managing our questions that we proposed and thought that we might ask we considered a plethora of moral factors. We wanted to make sure that the question that we decided on didn't have any problems with the ethics or morals that we believed in. We decided to look at the questions we were proposing very objectively. With the question we landed on, we wanted to use those metrics that people objectively use to measure success. These included things like satisfaction, work-life balance, and the typical but maybe less ethical income. \n",
    "\n",
    "In terms of the dataset that we plan to use, it undoubtably has some biases as it is very challenging to accurately sample a group of people that we identified as United States university engineering grads. However, in our analysis we will be very open with where we got our data and how representative of the population that we are claiming it is. Regardless we will do our best to create an analysis that is as equitable as possible by trimming the data set to not be skewed toward any one sub-population. This will be in the stages of data manipulation of our project, pre-analysis.\n",
    "\n",
    "The strong suit of our question in terms of equitability is that going to a university for an engineering degree is already a subset of people that, while may not be representative of the United States as a whole, is on a semi-even playing field. Of course not everyone's upbringing and the challenges that they faced along the way vary, however, they all made it to the point of university. This, in some ways, makes the population much more equitable than if we had considered a more broad group. "
   ]
  },
  {
   "cell_type": "markdown",
   "metadata": {},
   "source": [
    "# Team Expectations "
   ]
  },
  {
   "cell_type": "markdown",
   "metadata": {},
   "source": [
    "* Respond to messages from other team members within 24 hours\n",
    "* Weekly check-in to update team progress\n",
    "* If a member has to miss a meeting, message the other members\n",
    "* Treat all members with respect\n",
    "* Always be willing to help out members if they ask\n",
    "* Get the work done assigned to you in a timely manner\n",
    "* Communicate with the rest of the team if you're stuck"
   ]
  },
  {
   "cell_type": "markdown",
   "metadata": {},
   "source": [
    "# Project Timeline Proposal"
   ]
  },
  {
   "cell_type": "markdown",
   "metadata": {},
   "source": [
    "| Meeting Date  | Meeting Time| Completed Before Meeting  | Discuss at Meeting |\n",
    "|---|---|---|---|\n",
    "| 5/1  |  5 PM | Brainstorm ideas for projects  | Determine our research question and split up Project Proposal sections | \n",
    "| 5/8  |  5 PM | Identify potential data sources  | Finalize data sources and plan for data schema. Assign data wrangling tasks | \n",
    "| 5/15  | 5 PM  | Complete data wrangling necessary for EDA  | Discuss goals of EDA and what we are looking for | \n",
    "| 5/22  | 5 PM  | Complete EDA  | Compare results for EDA and do writeup. Discuss plans for analysis and assign individual tasks | \n",
    "| 5/29  | 5 PM  | Start individual analysis tasks  | Compare analysis results | \n",
    "| 6/4  | 5 PM  | Refine analysis and start drafting final write-up sections  | Finalize analysis and focus on writeup | \n",
    "| 5/11 | 5 PM  | Finish writeup second drafts | Finalize project and submit |\n"
   ]
  }
 ],
 "metadata": {
  "kernelspec": {
   "display_name": "Python 3 (ipykernel)",
   "language": "python",
   "name": "python3"
  },
  "language_info": {
   "codemirror_mode": {
    "name": "ipython",
    "version": 3
   },
   "file_extension": ".py",
   "mimetype": "text/x-python",
   "name": "python",
   "nbconvert_exporter": "python",
   "pygments_lexer": "ipython3",
   "version": "3.9.7"
  }
 },
 "nbformat": 4,
 "nbformat_minor": 2
}

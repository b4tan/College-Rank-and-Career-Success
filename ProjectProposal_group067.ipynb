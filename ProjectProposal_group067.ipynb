{
 "cells": [
  {
   "cell_type": "markdown",
   "metadata": {},
   "source": [
    "# COGS 108 - Project Proposal"
   ]
  },
  {
   "cell_type": "markdown",
   "metadata": {},
   "source": [
    "# Names\n",
    "\n",
    "- Alex Franz\n",
    "- Bryant Tan\n",
    "- Cole Carter\n",
    "- Henri Schulz"
   ]
  },
  {
   "cell_type": "markdown",
   "metadata": {},
   "source": [
    "# Research Question"
   ]
  },
  {
   "cell_type": "markdown",
   "metadata": {},
   "source": [
    "Does receiving an undergraduate degree from a top-20 United States engineering university improve career success in the tech industry in the United States as oppposed to receiving an undergraduate degree from a top-100 engineering university when career success is measured by mid-career salary, their job satisfaction, their job security, and their work-life balance?\n",
    "\n"
   ]
  },
  {
   "cell_type": "markdown",
   "metadata": {},
   "source": [
    "## Background and Prior Work"
   ]
  },
  {
   "cell_type": "markdown",
   "metadata": {},
   "source": [
    "# Introduction to the Topic\n",
    "\n",
    "The influence of the prestige of a university on career success is a significant area of research, especially in fields like engineering where educational pedigree may impact job opportunities and earnings potential. The discussion typically revolves around whether the advantages of attending a top-tier university, such as enhanced learning environments, better networking opportunities, and elevated prestige, translate into tangible career benefits like higher salaries, job satisfaction, and overall career advancement.\n",
    "\n",
    "# Prior Research and Findings\n",
    "\n",
    "An article provided by NBC News notes significant differences in starting salaries among graduates from universities of varying prestige. For instance, graduates from the University of Southern California have a notable starting salary advantage over those from lesser-known institutions and that graduates from Yale have an average starting salary of /$68,300/, significantly higher than the /$32,000/ starting salary for graduates from Mississippi Valley State University. [(^1)](#cite_note-1) This highlights the economic benefit of attending more prestigious universities.\n",
    "\n",
    "Previous research has provided mixed insights into the relationship between university ranking and career success. A study by Dale and Krueger (2014) found that for most students, the selectivity of the college they attend does not affect their earnings significantly after controlling for the competitiveness of the student. However, for subgroups such as students from disadvantaged backgrounds, the prestige of the institution did have a positive impact on earnings potential. [(^2)](#cite_note-2)\n",
    "\n",
    "Further compounding this view, research from the National Center for Education Statistics (NCES) suggests that college quality, as measured by resources and educational conditions, does correlate with higher earnings post-graduation. [(^3)](#cite_note-3) This correlation persists even when accounting for student backgrounds and labor market conditions, indicating that the institution's characteristics independently contribute to the career outcomes of its graduates​​.\n",
    "\n",
    "# Relevance to Current Project\n",
    "\n",
    "This previous work sets a foundational understanding that while the reputation of an educational institution may not universally guarantee better job prospects or earnings, it does provide certain groups with measurable advantages. The current project can build on these findings by more specifically analyzing how these outcomes vary among engineering graduates, where the impact of a university's rank might be more pronounced due to the technical and often competitive nature of the field.\n",
    "\n",
    "# References\n",
    "\n",
    "- [^1](#cite_note-1) Dale, S. B., & Krueger, A. B. (2014). *Estimating the Return to College Selectivity over the Career Using Administrative Earning Data*. Journal of Human Resources.\n",
    "- [^2](#cite_note-2) National Center for Education Statistics (NCES). *College Quality and the Earnings of Recent College Graduates*. U.S. Department of Education.\n",
    "- [^3](#cite_note-3) [NBC News](https://www.nbcnews.com/business/business-news/does-it-even-matter-where-you-go-college-here-s-n982851)\n",
    ". Report on the influence of university prestige on starting salaries and career success. "
   ]
  },
  {
   "cell_type": "markdown",
   "metadata": {},
   "source": [
    "# Hypothesis\n"
   ]
  },
  {
   "cell_type": "markdown",
   "metadata": {},
   "source": [
    "We hypothesize that getting a degree from a top-20 engineering university in the United States will not improve an individual's career success beyond that of a recipient of the top 100 engineering schools. This is because the quality of education is similar at the top 100 schools, and other factors such as connections, creativity, and personality will have a stronger impact on career success than where people received their undergraduate degree."
   ]
  },
  {
   "cell_type": "markdown",
   "metadata": {},
   "source": [
    "# Data"
   ]
  },
  {
   "cell_type": "markdown",
   "metadata": {},
   "source": [
    "1. Explain what the **ideal** dataset you would want to answer this question. (This should include: What variables? How many observations? Who/what/how would these data be collected? How would these data be stored/organized?)\n",
    "1. Search for potential **real** datasets that could provide you with something useful for this project.  You do not have to find every piece of data you will use, but you do need to have demonstrated some idea that (a) this data is gettable and (b) that this data may be different from what your ideal is."
   ]
  },
  {
   "cell_type": "markdown",
   "metadata": {},
   "source": [
    "# Ethics & Privacy"
   ]
  },
  {
   "cell_type": "markdown",
   "metadata": {},
   "source": [
    "- Thoughtful discussion of ethical concerns included\n",
    "- Ethical concerns consider the whole data science process (question asked, data collected, data being used, the bias in data, analysis, post-analysis, etc.)\n",
    "- How your group handled bias/ethical concerns clearly described\n",
    "\n",
    "Acknowledge and address any ethics & privacy related issues of your question(s), proposed dataset(s), and/or analyses. Use the information provided in lecture to guide your group discussion and thinking. If you need further guidance, check out [Deon's Ethics Checklist](http://deon.drivendata.org/#data-science-ethics-checklist). In particular:\n",
    "\n",
    "- Are there any biases/privacy/terms of use issues with the data you propsed?\n",
    "- Are there potential biases in your dataset(s), in terms of who it composes, and how it was collected, that may be problematic in terms of it allowing for equitable analysis? (For example, does your data exclude particular populations, or is it likely to reflect particular human biases in a way that could be a problem?)\n",
    "- How will you set out to detect these specific biases before, during, and after/when communicating your analysis?\n",
    "- Are there any other issues related to your topic area, data, and/or analyses that are potentially problematic in terms of data privacy and equitable impact?\n",
    "- How will you handle issues you identified?"
   ]
  },
  {
   "cell_type": "markdown",
   "metadata": {},
   "source": [
    "# Team Expectations "
   ]
  },
  {
   "cell_type": "markdown",
   "metadata": {},
   "source": [
    "* Response to messages from other team members within 24 hours\n",
    "* Weekly check-in to update team progress\n",
    "* TODO: Add more"
   ]
  },
  {
   "cell_type": "markdown",
   "metadata": {},
   "source": [
    "# Project Timeline Proposal"
   ]
  },
  {
   "cell_type": "markdown",
   "metadata": {},
   "source": [
    "| Meeting Date  | Meeting Time| Completed Before Meeting  | Discuss at Meeting |\n",
    "|---|---|---|---|\n",
    "| 5/1  |  1 PM | TODO  | TODO | \n",
    "| 5/8  |  3 PM | TODO  | TODO | \n",
    "| 5/15  | 3 PM  | TODO  | TODO | \n",
    "| 5/22  | 3 PM  | TODO  | TODO | \n",
    "| 5/29  | 3 PM  | TODO  | TODO | \n",
    "| 6/4  | 3 PM  | TODO  | TODO | \n"
   ]
  },
  {
   "cell_type": "markdown",
   "metadata": {},
   "source": []
  },
  {
   "cell_type": "markdown",
   "metadata": {},
   "source": []
  }
 ],
 "metadata": {
  "kernelspec": {
   "display_name": "Python 3 (ipykernel)",
   "language": "python",
   "name": "python3"
  },
  "language_info": {
   "codemirror_mode": {
    "name": "ipython",
    "version": 3
   },
   "file_extension": ".py",
   "mimetype": "text/x-python",
   "name": "python",
   "nbconvert_exporter": "python",
   "pygments_lexer": "ipython3",
   "version": "3.9.7"
  }
 },
 "nbformat": 4,
 "nbformat_minor": 2
}

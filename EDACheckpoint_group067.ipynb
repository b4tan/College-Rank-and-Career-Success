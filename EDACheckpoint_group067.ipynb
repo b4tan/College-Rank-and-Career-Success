{
 "cells": [
  {
   "cell_type": "markdown",
   "metadata": {},
   "source": [
    "**If you lost points on the last checkpoint you can get them back by responding to TA/IA feedback**  \n",
    "\n",
    "Update/change the relevant sections where you lost those points, make sure you respond on GitHub Issues to your TA/IA to call their attention to the changes you made here.\n",
    "\n",
    "Please update your Timeline... no battle plan survives contact with the enemy, so make sure we understand how your plans have changed."
   ]
  },
  {
   "cell_type": "markdown",
   "metadata": {},
   "source": [
    "# COGS 108 - EDA Checkpoint"
   ]
  },
  {
   "cell_type": "markdown",
   "metadata": {},
   "source": [
    "# Names\n",
    "\n",
    "- Alex Franz\n",
    "- Bryant Tan\n",
    "- Cole Carter\n",
    "- Henri Schulz"
   ]
  },
  {
   "cell_type": "markdown",
   "metadata": {},
   "source": [
    "# Research Question"
   ]
  },
  {
   "cell_type": "markdown",
   "metadata": {},
   "source": [
    "Does a higher Center for World University Rankings ranking increase financial return on invest (ROI) at a US university in 2018-2019 where financial ROI is measured by the cost of tuition, loan repayment rate, average debt, and post-graduation earnings ?\n",
    "\n"
   ]
  },
  {
   "cell_type": "markdown",
   "metadata": {},
   "source": [
    "## Background and Prior Work"
   ]
  },
  {
   "cell_type": "markdown",
   "metadata": {},
   "source": [
    "### Introduction to the Topic\n",
    "\n",
    "\n",
    "The influence of the prestige of a university on career success is a significant area of research, especially in fields like engineering where educational pedigree may impact job opportunities and earnings potential. The discussion typically revolves around whether the advantages of attending a top-tier university, such as enhanced learning environments, better networking opportunities, and elevated prestige, translate into tangible career benefits like higher salaries, job satisfaction, and overall career advancement. Generally, attending a prestigious institution has been associated with higher success rates, but the question remains: does the cost of tuition justify these outcomes?\n",
    "\n",
    "\n",
    "### Prior Research and Findings\n",
    "\n",
    "\n",
    "An article provided by NBC News notes significant differences in starting salaries among graduates from universities of varying prestige. For instance, graduates from the University of Southern California have a notable starting salary advantage over those from lesser-known institutions and that graduates from Yale have an average starting salary of `$68,300`, significantly higher than the `$32,000` starting salary for graduates from Mississippi Valley State University. <sup id=\"cite_ref-1\">[1](#cite_note-1)</sup> This highlights the economic benefit of attending more prestigious universities.\n",
    "\n",
    "\n",
    "Further research indicates that while the cost of attending college has dramatically increased, the financial benefits such as earnings growth have not kept pace. Specifically, college costs have risen by 169% over the past four decades, while earnings for workers between the ages of 22 and 27 have increased by just 19%, according to an analysis of U.S. Census, Bureau of Labor Statistics, and National Center for Education Statistics data. <sup id=\"cite_ref-2\">[2](#cite_note-2)</sup> This disparity raises questions about the economic return on investment of higher education, particularly from less prestigious institutions.\n",
    "\n",
    "\n",
    "Additionally, a study exploring the quality of working life among university academics reveals that work-life balance, job and career satisfaction, and working conditions significantly affect employee commitment and stress levels, ultimately impacting overall well-being. It emphasizes that higher-ranked universities tend to offer better job security and more supportive working conditions, which not only enhance personal well-being but also improve job satisfaction <sup id=\"cite_ref-3\">[3](#cite_note-3)</sup> This research underscores the importance of university environment and job security, particularly in contrasting permanent versus temporary academic roles, and highlights the subtle effects of university prestige not only on earnings but also on job satisfaction and personal well-being.\n",
    "\n",
    "\n",
    "### Relevance to Current Project\n",
    "\n",
    "\n",
    "This previous work sets a foundational understanding that while the reputation of an educational institution may not universally guarantee better job prospects or earnings, it does provide certain groups with measurable advantages. The current project can build on these findings by more specifically analyzing how these outcomes vary among engineering graduates, where the impact of a university's rank might be more pronounced due to the technical and often competitive nature of the field.\n",
    "\n",
    "\n",
    "### References\n",
    "- <sup id=\"cite_note-1\">1</sup> [NBC News](https://www.nbcnews.com/business/business-news/does-it-even-matter-where-you-go-college-here-s-n982851) Report on the influence of university prestige on starting salaries and career success.\n",
    "- <sup id=\"cite_note-2\">2</sup> [CNBC News](https://www.cnbc.com/2021/11/02/the-gap-in-college-costs-and-earnings-for-young-workers-since-1980.html) College costs have increased by 169% since 1980—but pay for young workers is up by just 19%: Georgetown report\n",
    "- <sup id=\"cite_note-3\">3</sup> [Research Gate](https://www.researchgate.net/publication/305689177_Quality_of_working_life_of_academics_and_researchers_in_the_UK_the_roles_of_contract_type_tenure_and_university_ranking) Fontinha, R., Van Laar, D., & Easton, S. (2018). *Quality of working life of academics and researchers in the UK: the roles of contract type, tenure and university ranking*. Studies in Higher Education, 43(4), 786–806.\n"
   ]
  },
  {
   "cell_type": "markdown",
   "metadata": {},
   "source": [
    "# Hypothesis\n"
   ]
  },
  {
   "cell_type": "markdown",
   "metadata": {},
   "source": [
    "\n",
    "We hypothesize that a higher university rank will correlate to a higher average return on investment because higher ranked colleges hold more merit in industry and academia, resulting in better opportunities for graduates from highly ranked colleges as compared to lower ranked colleges."
   ]
  },
  {
   "cell_type": "markdown",
   "metadata": {},
   "source": [
    "# Data"
   ]
  },
  {
   "cell_type": "markdown",
   "metadata": {},
   "source": [
    "## Data overview\n",
    "\n",
    "- Dataset #1\n",
    "  - Dataset Name: Department of Education College Scorecard 2018-2019\n",
    "  - Link to the dataset: [https://collegescorecard.ed.gov/data/](https://collegescorecard.ed.gov/data/)\n",
    "  - Number of observations: 6694\n",
    "  - Number of variables: 3244\n",
    "- Dataset #2\n",
    "  - Dataset Name: Center for World University Rankings World University Rankings 2018-2019\n",
    "  - Link to the dataset: [https://www.kaggle.com/datasets/erfansobhaei/ultimate-university-ranking](https://www.kaggle.com/datasets/erfansobhaei/ultimate-university-ranking)\n",
    "  - Number of observations: 1000\n",
    "  - Number of variables: 12\n",
    "\n",
    "__Dataset #1 Description__\n",
    "\n",
    "The Department of Education College Scorecard 2018-2019 includes 3244 variables from 6694 different colleges in the US regarding admissions, financial aid, earnings after college, student demographics, graduation rates, and student outcomes. We plan to use this dataset to extract the median cost of attendence, debt repayment rates in percentages at 1, 4, and 5 years after college, and median earnings at 1, 4, and 10 years after college. With these metrics, we will be able to establish a quantitative heuristic for the return on investment of a given institution. To perform this analysis, we will have to filter our dataset to include only columns of potential interest, discard any resulting columns of interest with an excessive proportion of NaN values, and combine duplicate metrics across different columns to generate an accurate depiction of our desired aforementioned metrics.\n",
    "\n",
    "__Datset #2 Description__\n",
    "\n",
    "The CWRU World University Rankings 2018-2019 will be used to identify the rankings of colleges. The most important metrics found in this dataset are string-formatted names, integer-formatted world ranking and national rankings, and float-formatted overall scores of the 1000 universities within the dataset. This dataset will be used to filter out the schools from the College Scorecard that data we want to include in our study using a DataFrame merge, as well as include ranking data in our overall combined dataset. The combined dataset will be sorted according to the institutions' world rank as determined by the CWUR rankings.\n",
    "\n",
    "\n",
    "__Combined Dataset Description__\n",
    "\n",
    "The combined dataset focuses on US institutions present in both the College Scorecard and CWUR datasets. It includes the following key variables:\n",
    "\n",
    "Institution (institution): The name of the college or university. </br>\n",
    "Average Cost (avg_cost): The average annual cost of attendance. </br>\n",
    "Supply Cost (supply_cost): The cost of books and supplies. </br>\n",
    "Average Debt (avg_debt): The median debt of graduates. </br>\n",
    "75% Earnings 8 Years After Enrollment (75%_earnings_8_yrs): The earnings at the 75th percentile 8 years after enrollment. </br>\n",
    "25% Earnings 8 Years After Enrollment (25%_earnings_8_yrs): The earnings at the 25th percentile 8 years after enrollment. </br>\n",
    "Earnings 6 Years After Enrollment (earnings_6_yrs): The median earnings 6 years after enrollment. </br>\n",
    "Earnings 10 Years After Enrollment (earnings_10_yrs): The median earnings 10 years after enrollment. </br>\n",
    "National Rank (rank): The national ranking of the institution according to CWUR. </br>\n",
    "Return on Investment (roi): A calculated metric representing the ROI based on median earnings and average cost. </br>\n",
    "\n",
    "__Data Cleaning Performed__\n",
    "\n",
    "Standardization: Institution names were standardized to ensure consistency across datasets.\n",
    "Filtering: The dataset was filtered to include only institutions present in the CWUR dataset.\n",
    "Handling Missing Values: Rows with missing values in key variables were dropped to ensure data quality.\n",
    "Numeric Conversion: All relevant columns were converted to numeric types for analysis."
   ]
  },
  {
   "cell_type": "markdown",
   "metadata": {},
   "source": [
    "## Data Imports and Standardization Function"
   ]
  },
  {
   "cell_type": "code",
   "execution_count": 9,
   "metadata": {},
   "outputs": [],
   "source": [
    "# Imports \n",
    "import pandas as pd \n",
    "import numpy as np \n",
    "import seaborn as sns \n",
    "import re \n",
    "import matplotlib.pyplot as plt\n",
    "\n",
    "# Standardizes instritution, used for filtering Scorecard data based on ranking data\n",
    "def institution_standardize(string):\n",
    "    string = string.lower()\n",
    "    string = string.replace(',', '')\n",
    "    string = string.replace(' ', '')\n",
    "    string = re.sub(r'[^a-zA-Z0-9]', '', string)\n",
    "    return string"
   ]
  },
  {
   "cell_type": "markdown",
   "metadata": {},
   "source": [
    "## Center for World University Rankings 2018-2019"
   ]
  },
  {
   "cell_type": "code",
   "execution_count": 10,
   "metadata": {},
   "outputs": [
    {
     "data": {
      "text/html": [
       "<div>\n",
       "<style scoped>\n",
       "    .dataframe tbody tr th:only-of-type {\n",
       "        vertical-align: middle;\n",
       "    }\n",
       "\n",
       "    .dataframe tbody tr th {\n",
       "        vertical-align: top;\n",
       "    }\n",
       "\n",
       "    .dataframe thead th {\n",
       "        text-align: right;\n",
       "    }\n",
       "</style>\n",
       "<table border=\"1\" class=\"dataframe\">\n",
       "  <thead>\n",
       "    <tr style=\"text-align: right;\">\n",
       "      <th></th>\n",
       "      <th>Institution</th>\n",
       "      <th>National Rank</th>\n",
       "    </tr>\n",
       "  </thead>\n",
       "  <tbody>\n",
       "    <tr>\n",
       "      <th>0</th>\n",
       "      <td>harvarduniversity</td>\n",
       "      <td>1</td>\n",
       "    </tr>\n",
       "    <tr>\n",
       "      <th>1</th>\n",
       "      <td>stanforduniversity</td>\n",
       "      <td>2</td>\n",
       "    </tr>\n",
       "    <tr>\n",
       "      <th>2</th>\n",
       "      <td>massachusettsinstituteoftechnology</td>\n",
       "      <td>3</td>\n",
       "    </tr>\n",
       "    <tr>\n",
       "      <th>3</th>\n",
       "      <td>universityofcaliforniaberkeley</td>\n",
       "      <td>4</td>\n",
       "    </tr>\n",
       "    <tr>\n",
       "      <th>4</th>\n",
       "      <td>princetonuniversity</td>\n",
       "      <td>5</td>\n",
       "    </tr>\n",
       "  </tbody>\n",
       "</table>\n",
       "</div>"
      ],
      "text/plain": [
       "                          Institution  National Rank\n",
       "0                   harvarduniversity              1\n",
       "1                  stanforduniversity              2\n",
       "2  massachusettsinstituteoftechnology              3\n",
       "3      universityofcaliforniaberkeley              4\n",
       "4                 princetonuniversity              5"
      ]
     },
     "execution_count": 10,
     "metadata": {},
     "output_type": "execute_result"
    }
   ],
   "source": [
    "# Importing Data\n",
    "rankings = pd.read_csv(\"CWUR_2018-2019.csv\")\n",
    "\n",
    "# Gathering Ranking data we need to filter the Scorecard data\n",
    "rankings = rankings[rankings['Location'] == 'USA']\n",
    "rankings = rankings.loc[:,['Institution','National Rank']]\n",
    "rankings = rankings.reset_index(drop=True)\n",
    "\n",
    "# Standardizing ranking data\n",
    "rankings['Institution'] = rankings['Institution'].apply(institution_standardize)\n",
    "rankings['Institution'] = rankings[\"Institution\"].astype('string')\n",
    "\n",
    "rankings.head()"
   ]
  },
  {
   "cell_type": "markdown",
   "metadata": {},
   "source": [
    "## Department of Education College Scorecard "
   ]
  },
  {
   "cell_type": "code",
   "execution_count": 11,
   "metadata": {},
   "outputs": [
    {
     "name": "stderr",
     "output_type": "stream",
     "text": [
      "/var/folders/05/t831w2p92376_b4413g16jp40000gn/T/ipykernel_82313/1626189113.py:2: DtypeWarning: Columns (1729,1909,1910,1911,1912,1913,2376,2377,2958) have mixed types. Specify dtype option on import or set low_memory=False.\n",
      "  college_data = pd.read_csv(\"2018_2019_College_Data.csv\")\n"
     ]
    },
    {
     "data": {
      "text/html": [
       "<div>\n",
       "<style scoped>\n",
       "    .dataframe tbody tr th:only-of-type {\n",
       "        vertical-align: middle;\n",
       "    }\n",
       "\n",
       "    .dataframe tbody tr th {\n",
       "        vertical-align: top;\n",
       "    }\n",
       "\n",
       "    .dataframe thead th {\n",
       "        text-align: right;\n",
       "    }\n",
       "</style>\n",
       "<table border=\"1\" class=\"dataframe\">\n",
       "  <thead>\n",
       "    <tr style=\"text-align: right;\">\n",
       "      <th></th>\n",
       "      <th>INSTNM</th>\n",
       "      <th>COSTT4_A</th>\n",
       "      <th>BOOKSUPPLY</th>\n",
       "      <th>GRAD_DEBT_MDN</th>\n",
       "      <th>PCT75_EARN_WNE_P8</th>\n",
       "      <th>PCT25_EARN_WNE_P8</th>\n",
       "      <th>MD_EARN_WNE_P6</th>\n",
       "      <th>MD_EARN_WNE_P10</th>\n",
       "    </tr>\n",
       "  </thead>\n",
       "  <tbody>\n",
       "    <tr>\n",
       "      <th>1</th>\n",
       "      <td>universityofalabamaatbirmingham</td>\n",
       "      <td>24347.0</td>\n",
       "      <td>1200.0</td>\n",
       "      <td>22500</td>\n",
       "      <td>63552.0</td>\n",
       "      <td>28738.0</td>\n",
       "      <td>39271.0</td>\n",
       "      <td>46990.0</td>\n",
       "    </tr>\n",
       "    <tr>\n",
       "      <th>3</th>\n",
       "      <td>universityofalabamainhuntsville</td>\n",
       "      <td>23441.0</td>\n",
       "      <td>2034.0</td>\n",
       "      <td>21607</td>\n",
       "      <td>73997.0</td>\n",
       "      <td>29122.0</td>\n",
       "      <td>47533.0</td>\n",
       "      <td>54361.0</td>\n",
       "    </tr>\n",
       "    <tr>\n",
       "      <th>9</th>\n",
       "      <td>auburnuniversity</td>\n",
       "      <td>31282.0</td>\n",
       "      <td>1200.0</td>\n",
       "      <td>21281</td>\n",
       "      <td>76935.0</td>\n",
       "      <td>36231.0</td>\n",
       "      <td>49695.0</td>\n",
       "      <td>56933.0</td>\n",
       "    </tr>\n",
       "    <tr>\n",
       "      <th>58</th>\n",
       "      <td>universityofalaskafairbanks</td>\n",
       "      <td>18510.0</td>\n",
       "      <td>2000.0</td>\n",
       "      <td>19500</td>\n",
       "      <td>59768.0</td>\n",
       "      <td>19798.0</td>\n",
       "      <td>35456.0</td>\n",
       "      <td>43728.0</td>\n",
       "    </tr>\n",
       "    <tr>\n",
       "      <th>74</th>\n",
       "      <td>universityofarizona</td>\n",
       "      <td>26712.0</td>\n",
       "      <td>800.0</td>\n",
       "      <td>20171</td>\n",
       "      <td>76918.0</td>\n",
       "      <td>32696.0</td>\n",
       "      <td>43784.0</td>\n",
       "      <td>55205.0</td>\n",
       "    </tr>\n",
       "  </tbody>\n",
       "</table>\n",
       "</div>"
      ],
      "text/plain": [
       "                             INSTNM  COSTT4_A  BOOKSUPPLY GRAD_DEBT_MDN  \\\n",
       "1   universityofalabamaatbirmingham   24347.0      1200.0         22500   \n",
       "3   universityofalabamainhuntsville   23441.0      2034.0         21607   \n",
       "9                  auburnuniversity   31282.0      1200.0         21281   \n",
       "58      universityofalaskafairbanks   18510.0      2000.0         19500   \n",
       "74              universityofarizona   26712.0       800.0         20171   \n",
       "\n",
       "    PCT75_EARN_WNE_P8  PCT25_EARN_WNE_P8  MD_EARN_WNE_P6  MD_EARN_WNE_P10  \n",
       "1             63552.0            28738.0         39271.0          46990.0  \n",
       "3             73997.0            29122.0         47533.0          54361.0  \n",
       "9             76935.0            36231.0         49695.0          56933.0  \n",
       "58            59768.0            19798.0         35456.0          43728.0  \n",
       "74            76918.0            32696.0         43784.0          55205.0  "
      ]
     },
     "execution_count": 11,
     "metadata": {},
     "output_type": "execute_result"
    }
   ],
   "source": [
    "# Importing Data \n",
    "college_data = pd.read_csv(\"2018_2019_College_Data.csv\")\n",
    "\n",
    "# Creating copy dataframe, so we can use this to filter our original data with the original institution names\n",
    "college_data_filter = college_data.copy()\n",
    "\n",
    "# Standardizing copy Scorecard data\n",
    "college_data_filter['INSTNM'] = college_data_filter['INSTNM'].apply(institution_standardize)\n",
    "college_data_filter['INSTNM'] = college_data_filter['INSTNM'].astype('string')\n",
    "\n",
    "# Filtering dataset to include only universities in the rankings dataset\n",
    "filtered_college_data = college_data_filter[college_data_filter['INSTNM'].isin(rankings['Institution'])]\n",
    "\n",
    "# Filtering dataset to only include desired columns\n",
    "desired_cols = [\n",
    "    'INSTNM','COSTT4_A','BOOKSUPPLY','GRAD_DEBT_MDN','PCT75_EARN_WNE_P8','PCT25_EARN_WNE_P8','MD_EARN_WNE_P6','MD_EARN_WNE_P10'\n",
    "]\n",
    "filtered_college_data = filtered_college_data.loc[:, desired_cols]\n",
    "filtered_college_data.head()"
   ]
  },
  {
   "cell_type": "markdown",
   "metadata": {},
   "source": [
    "## Combining Datasets ##"
   ]
  },
  {
   "cell_type": "code",
   "execution_count": 12,
   "metadata": {},
   "outputs": [
    {
     "data": {
      "text/html": [
       "<div>\n",
       "<style scoped>\n",
       "    .dataframe tbody tr th:only-of-type {\n",
       "        vertical-align: middle;\n",
       "    }\n",
       "\n",
       "    .dataframe tbody tr th {\n",
       "        vertical-align: top;\n",
       "    }\n",
       "\n",
       "    .dataframe thead th {\n",
       "        text-align: right;\n",
       "    }\n",
       "</style>\n",
       "<table border=\"1\" class=\"dataframe\">\n",
       "  <thead>\n",
       "    <tr style=\"text-align: right;\">\n",
       "      <th></th>\n",
       "      <th>institution</th>\n",
       "      <th>avg_cost</th>\n",
       "      <th>supply_cost</th>\n",
       "      <th>avg_debt</th>\n",
       "      <th>75%_earnings_8_yrs</th>\n",
       "      <th>25%_earnings_8_yrs</th>\n",
       "      <th>earnings_6_yrs</th>\n",
       "      <th>earnings_10_yrs</th>\n",
       "      <th>rank</th>\n",
       "    </tr>\n",
       "  </thead>\n",
       "  <tbody>\n",
       "    <tr>\n",
       "      <th>0</th>\n",
       "      <td>Harvard University</td>\n",
       "      <td>71135.0</td>\n",
       "      <td>1000.0</td>\n",
       "      <td>13750.0</td>\n",
       "      <td>135753.0</td>\n",
       "      <td>45980.0</td>\n",
       "      <td>77816.0</td>\n",
       "      <td>84918.0</td>\n",
       "      <td>1.0</td>\n",
       "    </tr>\n",
       "    <tr>\n",
       "      <th>1</th>\n",
       "      <td>Stanford University</td>\n",
       "      <td>69109.0</td>\n",
       "      <td>1455.0</td>\n",
       "      <td>11750.0</td>\n",
       "      <td>166805.0</td>\n",
       "      <td>58448.0</td>\n",
       "      <td>88873.0</td>\n",
       "      <td>97798.0</td>\n",
       "      <td>2.0</td>\n",
       "    </tr>\n",
       "    <tr>\n",
       "      <th>2</th>\n",
       "      <td>Massachusetts Institute of Technology</td>\n",
       "      <td>67430.0</td>\n",
       "      <td>800.0</td>\n",
       "      <td>12500.0</td>\n",
       "      <td>169114.0</td>\n",
       "      <td>75080.0</td>\n",
       "      <td>112623.0</td>\n",
       "      <td>111222.0</td>\n",
       "      <td>3.0</td>\n",
       "    </tr>\n",
       "    <tr>\n",
       "      <th>3</th>\n",
       "      <td>University of California-Berkeley</td>\n",
       "      <td>36739.0</td>\n",
       "      <td>849.0</td>\n",
       "      <td>13478.0</td>\n",
       "      <td>117722.0</td>\n",
       "      <td>44547.0</td>\n",
       "      <td>65914.0</td>\n",
       "      <td>80364.0</td>\n",
       "      <td>4.0</td>\n",
       "    </tr>\n",
       "    <tr>\n",
       "      <th>4</th>\n",
       "      <td>Princeton University</td>\n",
       "      <td>66950.0</td>\n",
       "      <td>1050.0</td>\n",
       "      <td>10750.0</td>\n",
       "      <td>147835.0</td>\n",
       "      <td>56354.0</td>\n",
       "      <td>84713.0</td>\n",
       "      <td>95689.0</td>\n",
       "      <td>5.0</td>\n",
       "    </tr>\n",
       "  </tbody>\n",
       "</table>\n",
       "</div>"
      ],
      "text/plain": [
       "                             institution  avg_cost  supply_cost  avg_debt  \\\n",
       "0                     Harvard University   71135.0       1000.0   13750.0   \n",
       "1                    Stanford University   69109.0       1455.0   11750.0   \n",
       "2  Massachusetts Institute of Technology   67430.0        800.0   12500.0   \n",
       "3      University of California-Berkeley   36739.0        849.0   13478.0   \n",
       "4                   Princeton University   66950.0       1050.0   10750.0   \n",
       "\n",
       "   75%_earnings_8_yrs  25%_earnings_8_yrs  earnings_6_yrs  earnings_10_yrs  \\\n",
       "0            135753.0             45980.0         77816.0          84918.0   \n",
       "1            166805.0             58448.0         88873.0          97798.0   \n",
       "2            169114.0             75080.0        112623.0         111222.0   \n",
       "3            117722.0             44547.0         65914.0          80364.0   \n",
       "4            147835.0             56354.0         84713.0          95689.0   \n",
       "\n",
       "   rank  \n",
       "0   1.0  \n",
       "1   2.0  \n",
       "2   3.0  \n",
       "3   4.0  \n",
       "4   5.0  "
      ]
     },
     "execution_count": 12,
     "metadata": {},
     "output_type": "execute_result"
    }
   ],
   "source": [
    "# Convert the list of institutions to a categorical data type with the desired order\n",
    "filtered_college_data['INSTNM'] = pd.Categorical(filtered_college_data['INSTNM'], categories=rankings['Institution'], ordered=True)\n",
    "\n",
    "# Sort the dataframe based on the ordered 'INSTNM' column\n",
    "college_sorted = filtered_college_data.sort_values(by='INSTNM')\n",
    "\n",
    "# Extracting indices to use to pull observations from the college_data dataframe we need\n",
    "indices = college_sorted.index.to_list()\n",
    "\n",
    "# Filtering out universities we aren't including in the study\n",
    "college_data = college_data.iloc[indices]\n",
    "\n",
    "# Gathering columns we need for EDA and adding rank column \n",
    "college_data = college_data.loc[:,desired_cols]\n",
    "college_data = college_data.dropna().reset_index(drop=True)\n",
    "college_data['NationalRank'] = college_data.index + 1\n",
    "\n",
    "# Converting all columns to numeric values for EDA purposes\n",
    "numeric_cols = ['COSTT4_A','BOOKSUPPLY','GRAD_DEBT_MDN', 'PCT75_EARN_WNE_P8', 'PCT25_EARN_WNE_P8','MD_EARN_WNE_P6','MD_EARN_WNE_P10', 'NationalRank']\n",
    "college_data[numeric_cols] = college_data[numeric_cols].astype(float)\n",
    "\n",
    "# Renaming columns \n",
    "college_data.rename(\n",
    "    columns={\n",
    "        'INSTNM': 'institution',\n",
    "        'COSTT4_A': 'avg_cost', \n",
    "        'BOOKSUPPLY': 'supply_cost',\n",
    "        'GRAD_DEBT_MDN':'avg_debt',\n",
    "        'PCT75_EARN_WNE_P8':'75%_earnings_8_yrs',\n",
    "        'PCT25_EARN_WNE_P8':'25%_earnings_8_yrs',\n",
    "        'MD_EARN_WNE_P6': 'earnings_6_yrs',\n",
    "        'MD_EARN_WNE_P10':'earnings_10_yrs',\n",
    "        'NationalRank':'rank'\n",
    "        }\n",
    "        , inplace=True\n",
    "        )\n",
    "\n",
    "# Final dataframe\n",
    "college_data.head()"
   ]
  },
  {
   "cell_type": "code",
   "execution_count": 13,
   "metadata": {},
   "outputs": [
    {
     "data": {
      "text/plain": [
       "(146, 9)"
      ]
     },
     "execution_count": 13,
     "metadata": {},
     "output_type": "execute_result"
    }
   ],
   "source": [
    "college_data.shape"
   ]
  },
  {
   "cell_type": "markdown",
   "metadata": {},
   "source": [
    "# Results\n",
    "\n",
    "## Exploratory Data Analysis\n",
    "\n",
    "Carry out whatever EDA you need to for your project.  Because every project will be different we can't really give you much of a template at this point. But please make sure you describe the what and why in text here as well as providing interpretation of results and context."
   ]
  },
  {
   "cell_type": "markdown",
   "metadata": {},
   "source": [
    "### Section 1 of EDA - please give it a better title than this\n",
    "\n",
    "First, we examine the distribution of the cost of attendace at various universities and find a bimodal distribution."
   ]
  },
  {
   "cell_type": "code",
   "execution_count": 14,
   "metadata": {},
   "outputs": [
    {
     "data": {
      "text/html": [
       "<div>\n",
       "<style scoped>\n",
       "    .dataframe tbody tr th:only-of-type {\n",
       "        vertical-align: middle;\n",
       "    }\n",
       "\n",
       "    .dataframe tbody tr th {\n",
       "        vertical-align: top;\n",
       "    }\n",
       "\n",
       "    .dataframe thead th {\n",
       "        text-align: right;\n",
       "    }\n",
       "</style>\n",
       "<table border=\"1\" class=\"dataframe\">\n",
       "  <thead>\n",
       "    <tr style=\"text-align: right;\">\n",
       "      <th></th>\n",
       "      <th>avg_cost</th>\n",
       "      <th>supply_cost</th>\n",
       "      <th>avg_debt</th>\n",
       "      <th>75%_earnings_8_yrs</th>\n",
       "      <th>25%_earnings_8_yrs</th>\n",
       "      <th>earnings_6_yrs</th>\n",
       "      <th>earnings_10_yrs</th>\n",
       "      <th>rank</th>\n",
       "    </tr>\n",
       "  </thead>\n",
       "  <tbody>\n",
       "    <tr>\n",
       "      <th>count</th>\n",
       "      <td>146.000000</td>\n",
       "      <td>146.000000</td>\n",
       "      <td>146.000000</td>\n",
       "      <td>146.000000</td>\n",
       "      <td>146.000000</td>\n",
       "      <td>146.000000</td>\n",
       "      <td>146.000000</td>\n",
       "      <td>146.000000</td>\n",
       "    </tr>\n",
       "    <tr>\n",
       "      <th>mean</th>\n",
       "      <td>40064.842466</td>\n",
       "      <td>1244.657534</td>\n",
       "      <td>20028.089041</td>\n",
       "      <td>88160.294521</td>\n",
       "      <td>38570.465753</td>\n",
       "      <td>54125.924658</td>\n",
       "      <td>65861.047945</td>\n",
       "      <td>73.500000</td>\n",
       "    </tr>\n",
       "    <tr>\n",
       "      <th>std</th>\n",
       "      <td>20389.795700</td>\n",
       "      <td>382.891133</td>\n",
       "      <td>3786.235191</td>\n",
       "      <td>23572.450931</td>\n",
       "      <td>9084.873360</td>\n",
       "      <td>14284.343141</td>\n",
       "      <td>15027.045740</td>\n",
       "      <td>42.290661</td>\n",
       "    </tr>\n",
       "    <tr>\n",
       "      <th>min</th>\n",
       "      <td>17582.000000</td>\n",
       "      <td>800.000000</td>\n",
       "      <td>10750.000000</td>\n",
       "      <td>55495.000000</td>\n",
       "      <td>19798.000000</td>\n",
       "      <td>31824.000000</td>\n",
       "      <td>42350.000000</td>\n",
       "      <td>1.000000</td>\n",
       "    </tr>\n",
       "    <tr>\n",
       "      <th>25%</th>\n",
       "      <td>23948.750000</td>\n",
       "      <td>1001.500000</td>\n",
       "      <td>17625.000000</td>\n",
       "      <td>72297.750000</td>\n",
       "      <td>32433.000000</td>\n",
       "      <td>43786.000000</td>\n",
       "      <td>54385.250000</td>\n",
       "      <td>37.250000</td>\n",
       "    </tr>\n",
       "    <tr>\n",
       "      <th>50%</th>\n",
       "      <td>29212.500000</td>\n",
       "      <td>1200.000000</td>\n",
       "      <td>20500.000000</td>\n",
       "      <td>83056.500000</td>\n",
       "      <td>37161.000000</td>\n",
       "      <td>51282.000000</td>\n",
       "      <td>63780.500000</td>\n",
       "      <td>73.500000</td>\n",
       "    </tr>\n",
       "    <tr>\n",
       "      <th>75%</th>\n",
       "      <td>65563.500000</td>\n",
       "      <td>1300.000000</td>\n",
       "      <td>22608.750000</td>\n",
       "      <td>97822.750000</td>\n",
       "      <td>43235.000000</td>\n",
       "      <td>60383.750000</td>\n",
       "      <td>74918.750000</td>\n",
       "      <td>109.750000</td>\n",
       "    </tr>\n",
       "    <tr>\n",
       "      <th>max</th>\n",
       "      <td>75735.000000</td>\n",
       "      <td>3750.000000</td>\n",
       "      <td>27000.000000</td>\n",
       "      <td>181259.000000</td>\n",
       "      <td>75080.000000</td>\n",
       "      <td>129420.000000</td>\n",
       "      <td>112166.000000</td>\n",
       "      <td>146.000000</td>\n",
       "    </tr>\n",
       "  </tbody>\n",
       "</table>\n",
       "</div>"
      ],
      "text/plain": [
       "           avg_cost  supply_cost      avg_debt  75%_earnings_8_yrs  \\\n",
       "count    146.000000   146.000000    146.000000          146.000000   \n",
       "mean   40064.842466  1244.657534  20028.089041        88160.294521   \n",
       "std    20389.795700   382.891133   3786.235191        23572.450931   \n",
       "min    17582.000000   800.000000  10750.000000        55495.000000   \n",
       "25%    23948.750000  1001.500000  17625.000000        72297.750000   \n",
       "50%    29212.500000  1200.000000  20500.000000        83056.500000   \n",
       "75%    65563.500000  1300.000000  22608.750000        97822.750000   \n",
       "max    75735.000000  3750.000000  27000.000000       181259.000000   \n",
       "\n",
       "       25%_earnings_8_yrs  earnings_6_yrs  earnings_10_yrs        rank  \n",
       "count          146.000000      146.000000       146.000000  146.000000  \n",
       "mean         38570.465753    54125.924658     65861.047945   73.500000  \n",
       "std           9084.873360    14284.343141     15027.045740   42.290661  \n",
       "min          19798.000000    31824.000000     42350.000000    1.000000  \n",
       "25%          32433.000000    43786.000000     54385.250000   37.250000  \n",
       "50%          37161.000000    51282.000000     63780.500000   73.500000  \n",
       "75%          43235.000000    60383.750000     74918.750000  109.750000  \n",
       "max          75080.000000   129420.000000    112166.000000  146.000000  "
      ]
     },
     "execution_count": 14,
     "metadata": {},
     "output_type": "execute_result"
    }
   ],
   "source": [
    "college_data.describe()"
   ]
  },
  {
   "cell_type": "code",
   "execution_count": 8,
   "metadata": {},
   "outputs": [
    {
     "data": {
      "text/plain": [
       "<Axes: xlabel='avg_cost', ylabel='Count'>"
      ]
     },
     "execution_count": 8,
     "metadata": {},
     "output_type": "execute_result"
    },
    {
     "data": {
      "image/png": "[encoded data removed]",
      "text/plain": [
       "<Figure size 640x480 with 1 Axes>"
      ]
     },
     "metadata": {},
     "output_type": "display_data"
    }
   ],
   "source": [
    "sns.histplot(data=college_data, x='avg_cost', kde=True)"
   ]
  },
  {
   "cell_type": "markdown",
   "metadata": {},
   "source": [
    "Given this bimodal distribution, we examine how the avg_cost compares to the median rankings."
   ]
  },
  {
   "cell_type": "code",
   "execution_count": 14,
   "metadata": {},
   "outputs": [
    {
     "data": {
      "text/plain": [
       "<Axes: xlabel='rank', ylabel='avg_cost'>"
      ]
     },
     "execution_count": 14,
     "metadata": {},
     "output_type": "execute_result"
    },
    {
     "data": {
      "image/png": "[encoded data removed]",
      "text/plain": [
       "<Figure size 640x480 with 1 Axes>"
      ]
     },
     "metadata": {},
     "output_type": "display_data"
    }
   ],
   "source": [
    "sns.scatterplot(data=college_data, x='rank', y='avg_cost')"
   ]
  },
  {
   "cell_type": "markdown",
   "metadata": {},
   "source": [
    "### Section 2 of EDA if you need it  - please give it a better title than this\n",
    "\n",
    "Some more words and stuff.  Remember notebooks work best if you interleave the code that generates a result with properly annotate figures and text that puts these results into context."
   ]
  },
  {
   "cell_type": "markdown",
   "metadata": {},
   "source": []
  },
  {
   "cell_type": "markdown",
   "metadata": {},
   "source": [
    "# Ethics & Privacy"
   ]
  },
  {
   "cell_type": "markdown",
   "metadata": {},
   "source": [
    "In the CWRU rankings dataset, the main source of bias is the determination of what constitutes a university's ranking. It is nearly impossible to holistically declare one school as better than another, so instead the CWRU turns to certain metrics to quantitatively rank these universties. This method of ranking is not explicitly provided, so there may be potential biases originating in the metrics being used or in the analysis which uses potentially biased weights for these metrics to assess the overall quality of an institution However, despite these potential biases, the Center for World University Ranking's frequent updates to their data, their frequency of use in other studies, and their overall reputatition suggests that while these rankings may not be in absolutely perfect order, they are in general reflective of the prestige of schools and therefore are sufficient to draw conclusions about the effect of rank across a large range of rankings.\n",
    "\n",
    "As for the College Scoreboard data, we may not have an equal amount of data points for determining the financial metrics of each university, so this data may not cover all of the school equally. There could be factors such as geographical bias based on where the writers of the reports and datasets are located. It also might have socioeconomic biases due to the fact that some economic factors such as the ability to afford college can be obscured in the data and not depict situations fairly. However, the fact that is that there are no individuals in the dataset but rather generalized statistics leads to some normalization and increased accuracy of the metrics across a large number of students at each institution. Conversely, this brings the method of data collection into question. Considering that the data found in the College Scoreboard is sourced from government data and individual institutions, the authority of these data sources contribute to an increased likelihood of their accurate depiction of our desired metrics, reducing the likelihood of bias.\n",
    "\n",
    "It is important to note that any generic conclusions or patterns presented in this report should not be viewed as absolute statements or actionable information. While our analysis is conducted in a way that minimizes bias, it remains impossible to eleminate all potential sources of bias and note that confounding factors such as socioeconomic class, which influences college decisions and financial basis and career opportunities, could be strong contributers to our results. Even if we were able to ensure unbiased, purely objective analyses, it is important to note that this ranking is no way definitive of salary outcomes. While students at certain universities may be more likely on average to meet certain financial metrics, attendance of a specific university does not guarantee these outcomes and should not be interpreted as such."
   ]
  },
  {
   "cell_type": "markdown",
   "metadata": {},
   "source": [
    "# Team Expectations "
   ]
  },
  {
   "cell_type": "markdown",
   "metadata": {},
   "source": [
    "\n",
    "* Respond to messages from other team members within 24 hours\n",
    "* Weekly check-in to update team progress\n",
    "* If a member has to miss a meeting, message the other members\n",
    "* Treat all members with respect\n",
    "* Always be willing to help out members if they ask\n",
    "* Get the work done assigned to you in a timely manner\n",
    "* Communicate with the rest of the team if you're stuck"
   ]
  },
  {
   "cell_type": "markdown",
   "metadata": {},
   "source": [
    "# Project Timeline Proposal"
   ]
  },
  {
   "cell_type": "markdown",
   "metadata": {},
   "source": [
    "| Meeting Date  | Meeting Time| Completed Before Meeting  | Discuss at Meeting |\n",
    "|---|---|---|---|\n",
    "| 5/1  |  5 PM | Brainstorm ideas for projects  | Determine our research question and split up Project Proposal sections | \n",
    "| 5/8  |  5 PM | Identify potential data sources  | Finalize data sources and plan for data schema. Assign data wrangling tasks | \n",
    "| 5/15  | 5 PM  | Complete data wrangling necessary for EDA  | Discuss goals of EDA and what we are looking for | \n",
    "| 5/22  | 5 PM  | Complete EDA  | Compare results for EDA and do writeup. Discuss plans for analysis and assign individual tasks | \n",
    "| 5/29  | 5 PM  | Start individual analysis tasks  | Compare analysis results | \n",
    "| 6/4  | 5 PM  | Refine analysis and start drafting final write-up sections  | Finalize analysis and focus on writeup | \n",
    "| 5/11 | 5 PM  | Finish writeup second drafts | Finalize project and submit |"
   ]
  }
 ],
 "metadata": {
  "kernelspec": {
   "display_name": "Python 3 (ipykernel)",
   "language": "python",
   "name": "python3"
  },
  "language_info": {
   "codemirror_mode": {
    "name": "ipython",
    "version": 3
   },
   "file_extension": ".py",
   "mimetype": "text/x-python",
   "name": "python",
   "nbconvert_exporter": "python",
   "pygments_lexer": "ipython3",
   "version": "3.12.0"
  }
 },
 "nbformat": 4,
 "nbformat_minor": 2
}

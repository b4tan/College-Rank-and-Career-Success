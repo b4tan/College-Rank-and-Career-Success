{
 "cells": [
  {
   "cell_type": "markdown",
   "metadata": {},
   "source": [
    "Here is some data wrangling and EDA, not sure what exactly to do but I figured it would be a good start \n"
   ]
  },
  {
   "cell_type": "code",
   "execution_count": 1,
   "metadata": {},
   "outputs": [],
   "source": [
    "# Imports \n",
    "import pandas as pd \n",
    "import numpy as np \n",
    "import seaborn as sns \n",
    "import re \n",
    "import matplotlib.pyplot as plt"
   ]
  },
  {
   "cell_type": "markdown",
   "metadata": {},
   "source": [
    "We read in the Rankings csv file and clean it and extract the columns we want so we can use it to filter the college_data dataframe. "
   ]
  },
  {
   "cell_type": "code",
   "execution_count": 2,
   "metadata": {},
   "outputs": [
    {
     "name": "stderr",
     "output_type": "stream",
     "text": [
      "/var/folders/3p/y0vk1fkd5sngg7zjfqnb2sv80000gn/T/ipykernel_76565/368511839.py:2: DtypeWarning: Columns (1729,1909,1910,1911,1912,1913,2376,2377,2958) have mixed types. Specify dtype option on import or set low_memory=False.\n",
      "  college_data = pd.read_csv(\"2018_2019_College_Data.csv\")\n"
     ]
    }
   ],
   "source": [
    "# Importing data \n",
    "college_data = pd.read_csv(\"2018_2019_College_Data.csv\")\n",
    "rankings = pd.read_csv(\"CWUR_2018-2019.csv\")\n",
    "\n",
    "# Gathering Ranking data we need to filter the Scorecard data\n",
    "rankings = rankings[rankings['Location'] == 'USA']\n",
    "rankings = rankings.loc[:,['Institution','National Rank']]\n",
    "rankings = rankings.reset_index(drop=True)"
   ]
  },
  {
   "cell_type": "code",
   "execution_count": 3,
   "metadata": {},
   "outputs": [
    {
     "data": {
      "text/html": [
       "<div>\n",
       "<style scoped>\n",
       "    .dataframe tbody tr th:only-of-type {\n",
       "        vertical-align: middle;\n",
       "    }\n",
       "\n",
       "    .dataframe tbody tr th {\n",
       "        vertical-align: top;\n",
       "    }\n",
       "\n",
       "    .dataframe thead th {\n",
       "        text-align: right;\n",
       "    }\n",
       "</style>\n",
       "<table border=\"1\" class=\"dataframe\">\n",
       "  <thead>\n",
       "    <tr style=\"text-align: right;\">\n",
       "      <th></th>\n",
       "      <th>Institution</th>\n",
       "      <th>National Rank</th>\n",
       "    </tr>\n",
       "  </thead>\n",
       "  <tbody>\n",
       "    <tr>\n",
       "      <th>0</th>\n",
       "      <td>Harvard University</td>\n",
       "      <td>1</td>\n",
       "    </tr>\n",
       "    <tr>\n",
       "      <th>1</th>\n",
       "      <td>Stanford University</td>\n",
       "      <td>2</td>\n",
       "    </tr>\n",
       "    <tr>\n",
       "      <th>2</th>\n",
       "      <td>Massachusetts Institute of Technology</td>\n",
       "      <td>3</td>\n",
       "    </tr>\n",
       "    <tr>\n",
       "      <th>3</th>\n",
       "      <td>University of California, Berkeley</td>\n",
       "      <td>4</td>\n",
       "    </tr>\n",
       "    <tr>\n",
       "      <th>4</th>\n",
       "      <td>Princeton University</td>\n",
       "      <td>5</td>\n",
       "    </tr>\n",
       "  </tbody>\n",
       "</table>\n",
       "</div>"
      ],
      "text/plain": [
       "                             Institution  National Rank\n",
       "0                     Harvard University              1\n",
       "1                    Stanford University              2\n",
       "2  Massachusetts Institute of Technology              3\n",
       "3     University of California, Berkeley              4\n",
       "4                   Princeton University              5"
      ]
     },
     "execution_count": 3,
     "metadata": {},
     "output_type": "execute_result"
    }
   ],
   "source": [
    "rankings.head()"
   ]
  },
  {
   "cell_type": "markdown",
   "metadata": {},
   "source": [
    "This funciton will standardize the institutions and allow us to include only our ranked universities based off the CWUR dataset. "
   ]
  },
  {
   "cell_type": "code",
   "execution_count": 4,
   "metadata": {},
   "outputs": [],
   "source": [
    "# Standardizes instritution, used for filtering Scorecard data based on ranking data\n",
    "def institution_standardize(string):\n",
    "    string = string.lower()\n",
    "    string = string.replace(',', '')\n",
    "    string = string.replace(' ', '')\n",
    "    string = re.sub(r'[^a-zA-Z0-9]', '', string)\n",
    "    return string"
   ]
  },
  {
   "cell_type": "markdown",
   "metadata": {},
   "source": [
    "Now, we'll change the column datatypes to strings and standardize both institution columns. Changing the columns to string types will ensure we can properly filter our College Scorecard dataset. "
   ]
  },
  {
   "cell_type": "code",
   "execution_count": 5,
   "metadata": {},
   "outputs": [],
   "source": [
    "# Standardizing ranking data\n",
    "rankings['Institution'] = rankings['Institution'].apply(institution_standardize)\n",
    "rankings['Institution'] = rankings[\"Institution\"].astype('string')\n",
    "\n",
    "# Creating copy dataframe, so we can use this to filter our original data with the original institution names\n",
    "college_data_filter = college_data.copy()\n",
    "\n",
    "# Standardizing copy Scorecard data\n",
    "college_data_filter['INSTNM'] = college_data_filter['INSTNM'].apply(institution_standardize)\n",
    "college_data_filter['INSTNM'] = college_data_filter['INSTNM'].astype('string')"
   ]
  },
  {
   "cell_type": "markdown",
   "metadata": {},
   "source": [
    "Now that both institution cols have been standardized, we can filter the college dataset using the national rankings dataset. "
   ]
  },
  {
   "cell_type": "code",
   "execution_count": 6,
   "metadata": {},
   "outputs": [],
   "source": [
    "filtered_college_data = college_data_filter[college_data_filter['INSTNM'].isin(rankings['Institution'])]"
   ]
  },
  {
   "cell_type": "markdown",
   "metadata": {},
   "source": [
    "After filtering out the universities we arent interested in, we now have to sort the data based off the national rankings so we have an ascending rank in our dataframe. "
   ]
  },
  {
   "cell_type": "code",
   "execution_count": 7,
   "metadata": {},
   "outputs": [
    {
     "name": "stderr",
     "output_type": "stream",
     "text": [
      "/var/folders/3p/y0vk1fkd5sngg7zjfqnb2sv80000gn/T/ipykernel_76565/3966034804.py:2: SettingWithCopyWarning: \n",
      "A value is trying to be set on a copy of a slice from a DataFrame.\n",
      "Try using .loc[row_indexer,col_indexer] = value instead\n",
      "\n",
      "See the caveats in the documentation: https://pandas.pydata.org/pandas-docs/stable/user_guide/indexing.html#returning-a-view-versus-a-copy\n",
      "  filtered_college_data['INSTNM'] = pd.Categorical(filtered_college_data['INSTNM'], categories=rankings['Institution'], ordered=True)\n"
     ]
    }
   ],
   "source": [
    "# Convert the list of institutions to a categorical data type with the desired order\n",
    "filtered_college_data['INSTNM'] = pd.Categorical(filtered_college_data['INSTNM'], categories=rankings['Institution'], ordered=True)\n",
    "\n",
    "# Sort the dataframe based on the ordered 'INSTNM' column\n",
    "college_sorted = filtered_college_data.sort_values(by='INSTNM')\n"
   ]
  },
  {
   "cell_type": "code",
   "execution_count": 8,
   "metadata": {},
   "outputs": [
    {
     "data": {
      "text/html": [
       "<div>\n",
       "<style scoped>\n",
       "    .dataframe tbody tr th:only-of-type {\n",
       "        vertical-align: middle;\n",
       "    }\n",
       "\n",
       "    .dataframe tbody tr th {\n",
       "        vertical-align: top;\n",
       "    }\n",
       "\n",
       "    .dataframe thead th {\n",
       "        text-align: right;\n",
       "    }\n",
       "</style>\n",
       "<table border=\"1\" class=\"dataframe\">\n",
       "  <thead>\n",
       "    <tr style=\"text-align: right;\">\n",
       "      <th></th>\n",
       "      <th>UNITID</th>\n",
       "      <th>OPEID</th>\n",
       "      <th>OPEID6</th>\n",
       "      <th>INSTNM</th>\n",
       "      <th>CITY</th>\n",
       "      <th>STABBR</th>\n",
       "      <th>ZIP</th>\n",
       "      <th>ACCREDAGENCY</th>\n",
       "      <th>INSTURL</th>\n",
       "      <th>NPCURL</th>\n",
       "      <th>...</th>\n",
       "      <th>DCS_PELL_LOAN</th>\n",
       "      <th>PCTPELL_DCS_POOLED_SUPP</th>\n",
       "      <th>PCTFLOAN_DCS_POOLED_SUPP</th>\n",
       "      <th>DCS_PELL_LOAN_POOLED</th>\n",
       "      <th>POOLYRS_DCS</th>\n",
       "      <th>SATVR50</th>\n",
       "      <th>SATMT50</th>\n",
       "      <th>ACTCM50</th>\n",
       "      <th>ACTEN50</th>\n",
       "      <th>ACTMT50</th>\n",
       "    </tr>\n",
       "  </thead>\n",
       "  <tbody>\n",
       "    <tr>\n",
       "      <th>1492</th>\n",
       "      <td>166027</td>\n",
       "      <td>215500</td>\n",
       "      <td>2155</td>\n",
       "      <td>harvarduniversity</td>\n",
       "      <td>Cambridge</td>\n",
       "      <td>MA</td>\n",
       "      <td>02138</td>\n",
       "      <td>NaN</td>\n",
       "      <td>NaN</td>\n",
       "      <td>NaN</td>\n",
       "      <td>...</td>\n",
       "      <td>NaN</td>\n",
       "      <td>NaN</td>\n",
       "      <td>NaN</td>\n",
       "      <td>NaN</td>\n",
       "      <td>NaN</td>\n",
       "      <td>NaN</td>\n",
       "      <td>NaN</td>\n",
       "      <td>NaN</td>\n",
       "      <td>NaN</td>\n",
       "      <td>NaN</td>\n",
       "    </tr>\n",
       "    <tr>\n",
       "      <th>3841</th>\n",
       "      <td>243744</td>\n",
       "      <td>130500</td>\n",
       "      <td>1305</td>\n",
       "      <td>stanforduniversity</td>\n",
       "      <td>Stanford</td>\n",
       "      <td>CA</td>\n",
       "      <td>94305</td>\n",
       "      <td>NaN</td>\n",
       "      <td>NaN</td>\n",
       "      <td>NaN</td>\n",
       "      <td>...</td>\n",
       "      <td>NaN</td>\n",
       "      <td>NaN</td>\n",
       "      <td>NaN</td>\n",
       "      <td>NaN</td>\n",
       "      <td>NaN</td>\n",
       "      <td>NaN</td>\n",
       "      <td>NaN</td>\n",
       "      <td>NaN</td>\n",
       "      <td>NaN</td>\n",
       "      <td>NaN</td>\n",
       "    </tr>\n",
       "    <tr>\n",
       "      <th>1508</th>\n",
       "      <td>166683</td>\n",
       "      <td>217800</td>\n",
       "      <td>2178</td>\n",
       "      <td>massachusettsinstituteoftechnology</td>\n",
       "      <td>Cambridge</td>\n",
       "      <td>MA</td>\n",
       "      <td>02139-4307</td>\n",
       "      <td>NaN</td>\n",
       "      <td>NaN</td>\n",
       "      <td>NaN</td>\n",
       "      <td>...</td>\n",
       "      <td>NaN</td>\n",
       "      <td>NaN</td>\n",
       "      <td>NaN</td>\n",
       "      <td>NaN</td>\n",
       "      <td>NaN</td>\n",
       "      <td>NaN</td>\n",
       "      <td>NaN</td>\n",
       "      <td>NaN</td>\n",
       "      <td>NaN</td>\n",
       "      <td>NaN</td>\n",
       "    </tr>\n",
       "    <tr>\n",
       "      <th>220</th>\n",
       "      <td>110635</td>\n",
       "      <td>131200</td>\n",
       "      <td>1312</td>\n",
       "      <td>universityofcaliforniaberkeley</td>\n",
       "      <td>Berkeley</td>\n",
       "      <td>CA</td>\n",
       "      <td>94720</td>\n",
       "      <td>NaN</td>\n",
       "      <td>NaN</td>\n",
       "      <td>NaN</td>\n",
       "      <td>...</td>\n",
       "      <td>NaN</td>\n",
       "      <td>NaN</td>\n",
       "      <td>NaN</td>\n",
       "      <td>NaN</td>\n",
       "      <td>NaN</td>\n",
       "      <td>NaN</td>\n",
       "      <td>NaN</td>\n",
       "      <td>NaN</td>\n",
       "      <td>NaN</td>\n",
       "      <td>NaN</td>\n",
       "    </tr>\n",
       "    <tr>\n",
       "      <th>2046</th>\n",
       "      <td>186131</td>\n",
       "      <td>262700</td>\n",
       "      <td>2627</td>\n",
       "      <td>princetonuniversity</td>\n",
       "      <td>Princeton</td>\n",
       "      <td>NJ</td>\n",
       "      <td>08544-0070</td>\n",
       "      <td>NaN</td>\n",
       "      <td>NaN</td>\n",
       "      <td>NaN</td>\n",
       "      <td>...</td>\n",
       "      <td>NaN</td>\n",
       "      <td>NaN</td>\n",
       "      <td>NaN</td>\n",
       "      <td>NaN</td>\n",
       "      <td>NaN</td>\n",
       "      <td>NaN</td>\n",
       "      <td>NaN</td>\n",
       "      <td>NaN</td>\n",
       "      <td>NaN</td>\n",
       "      <td>NaN</td>\n",
       "    </tr>\n",
       "  </tbody>\n",
       "</table>\n",
       "<p>5 rows × 3244 columns</p>\n",
       "</div>"
      ],
      "text/plain": [
       "      UNITID   OPEID  OPEID6                              INSTNM       CITY  \\\n",
       "1492  166027  215500    2155                   harvarduniversity  Cambridge   \n",
       "3841  243744  130500    1305                  stanforduniversity   Stanford   \n",
       "1508  166683  217800    2178  massachusettsinstituteoftechnology  Cambridge   \n",
       "220   110635  131200    1312      universityofcaliforniaberkeley   Berkeley   \n",
       "2046  186131  262700    2627                 princetonuniversity  Princeton   \n",
       "\n",
       "     STABBR         ZIP  ACCREDAGENCY  INSTURL  NPCURL  ...  DCS_PELL_LOAN  \\\n",
       "1492     MA       02138           NaN      NaN     NaN  ...            NaN   \n",
       "3841     CA       94305           NaN      NaN     NaN  ...            NaN   \n",
       "1508     MA  02139-4307           NaN      NaN     NaN  ...            NaN   \n",
       "220      CA       94720           NaN      NaN     NaN  ...            NaN   \n",
       "2046     NJ  08544-0070           NaN      NaN     NaN  ...            NaN   \n",
       "\n",
       "      PCTPELL_DCS_POOLED_SUPP  PCTFLOAN_DCS_POOLED_SUPP  DCS_PELL_LOAN_POOLED  \\\n",
       "1492                      NaN                       NaN                   NaN   \n",
       "3841                      NaN                       NaN                   NaN   \n",
       "1508                      NaN                       NaN                   NaN   \n",
       "220                       NaN                       NaN                   NaN   \n",
       "2046                      NaN                       NaN                   NaN   \n",
       "\n",
       "      POOLYRS_DCS  SATVR50  SATMT50  ACTCM50  ACTEN50  ACTMT50  \n",
       "1492          NaN      NaN      NaN      NaN      NaN      NaN  \n",
       "3841          NaN      NaN      NaN      NaN      NaN      NaN  \n",
       "1508          NaN      NaN      NaN      NaN      NaN      NaN  \n",
       "220           NaN      NaN      NaN      NaN      NaN      NaN  \n",
       "2046          NaN      NaN      NaN      NaN      NaN      NaN  \n",
       "\n",
       "[5 rows x 3244 columns]"
      ]
     },
     "execution_count": 8,
     "metadata": {},
     "output_type": "execute_result"
    }
   ],
   "source": [
    "college_sorted.head()"
   ]
  },
  {
   "cell_type": "markdown",
   "metadata": {},
   "source": [
    "The copy data has now been sorted by rank, so now we can use this to pull the data we need, using the indices of the univeristies, and the dired columns we want to extract. we'll aslo add a column to our dataframe with the national ranking of each school."
   ]
  },
  {
   "cell_type": "code",
   "execution_count": 9,
   "metadata": {},
   "outputs": [],
   "source": [
    "desired_cols = [\n",
    "    'INSTNM','COSTT4_A', 'GRAD_DEBT_MDN','PCT75_EARN_WNE_P8','PCT25_EARN_WNE_P8','MD_EARN_WNE_P10'\n",
    "    ]\n",
    "\n",
    "indices = college_sorted.index.to_list()\n",
    "\n",
    "college_data = college_data.iloc[indices]\n",
    "\n",
    "college_data = college_data.loc[:,desired_cols]\n",
    "college_data = college_data.dropna().reset_index(drop=True)\n",
    "college_data['NationalRank'] = college_data.index + 1\n"
   ]
  },
  {
   "cell_type": "code",
   "execution_count": 10,
   "metadata": {},
   "outputs": [
    {
     "data": {
      "text/html": [
       "<div>\n",
       "<style scoped>\n",
       "    .dataframe tbody tr th:only-of-type {\n",
       "        vertical-align: middle;\n",
       "    }\n",
       "\n",
       "    .dataframe tbody tr th {\n",
       "        vertical-align: top;\n",
       "    }\n",
       "\n",
       "    .dataframe thead th {\n",
       "        text-align: right;\n",
       "    }\n",
       "</style>\n",
       "<table border=\"1\" class=\"dataframe\">\n",
       "  <thead>\n",
       "    <tr style=\"text-align: right;\">\n",
       "      <th></th>\n",
       "      <th>INSTNM</th>\n",
       "      <th>COSTT4_A</th>\n",
       "      <th>GRAD_DEBT_MDN</th>\n",
       "      <th>PCT75_EARN_WNE_P8</th>\n",
       "      <th>PCT25_EARN_WNE_P8</th>\n",
       "      <th>MD_EARN_WNE_P10</th>\n",
       "      <th>NationalRank</th>\n",
       "    </tr>\n",
       "  </thead>\n",
       "  <tbody>\n",
       "    <tr>\n",
       "      <th>0</th>\n",
       "      <td>Harvard University</td>\n",
       "      <td>71135.0</td>\n",
       "      <td>13750</td>\n",
       "      <td>135753.0</td>\n",
       "      <td>45980.0</td>\n",
       "      <td>84918.0</td>\n",
       "      <td>1</td>\n",
       "    </tr>\n",
       "    <tr>\n",
       "      <th>1</th>\n",
       "      <td>Stanford University</td>\n",
       "      <td>69109.0</td>\n",
       "      <td>11750</td>\n",
       "      <td>166805.0</td>\n",
       "      <td>58448.0</td>\n",
       "      <td>97798.0</td>\n",
       "      <td>2</td>\n",
       "    </tr>\n",
       "    <tr>\n",
       "      <th>2</th>\n",
       "      <td>Massachusetts Institute of Technology</td>\n",
       "      <td>67430.0</td>\n",
       "      <td>12500</td>\n",
       "      <td>169114.0</td>\n",
       "      <td>75080.0</td>\n",
       "      <td>111222.0</td>\n",
       "      <td>3</td>\n",
       "    </tr>\n",
       "    <tr>\n",
       "      <th>3</th>\n",
       "      <td>University of California-Berkeley</td>\n",
       "      <td>36739.0</td>\n",
       "      <td>13478</td>\n",
       "      <td>117722.0</td>\n",
       "      <td>44547.0</td>\n",
       "      <td>80364.0</td>\n",
       "      <td>4</td>\n",
       "    </tr>\n",
       "    <tr>\n",
       "      <th>4</th>\n",
       "      <td>Princeton University</td>\n",
       "      <td>66950.0</td>\n",
       "      <td>10750</td>\n",
       "      <td>147835.0</td>\n",
       "      <td>56354.0</td>\n",
       "      <td>95689.0</td>\n",
       "      <td>5</td>\n",
       "    </tr>\n",
       "    <tr>\n",
       "      <th>...</th>\n",
       "      <td>...</td>\n",
       "      <td>...</td>\n",
       "      <td>...</td>\n",
       "      <td>...</td>\n",
       "      <td>...</td>\n",
       "      <td>...</td>\n",
       "      <td>...</td>\n",
       "    </tr>\n",
       "    <tr>\n",
       "      <th>141</th>\n",
       "      <td>University of Memphis</td>\n",
       "      <td>22676.0</td>\n",
       "      <td>25000</td>\n",
       "      <td>58368.0</td>\n",
       "      <td>25544.0</td>\n",
       "      <td>43699.0</td>\n",
       "      <td>142</td>\n",
       "    </tr>\n",
       "    <tr>\n",
       "      <th>142</th>\n",
       "      <td>Amherst College</td>\n",
       "      <td>71300.0</td>\n",
       "      <td>13500</td>\n",
       "      <td>117651.0</td>\n",
       "      <td>40980.0</td>\n",
       "      <td>71567.0</td>\n",
       "      <td>143</td>\n",
       "    </tr>\n",
       "    <tr>\n",
       "      <th>143</th>\n",
       "      <td>Missouri University of Science and Technology</td>\n",
       "      <td>22012.0</td>\n",
       "      <td>24250</td>\n",
       "      <td>91060.0</td>\n",
       "      <td>43854.0</td>\n",
       "      <td>80289.0</td>\n",
       "      <td>144</td>\n",
       "    </tr>\n",
       "    <tr>\n",
       "      <th>144</th>\n",
       "      <td>University of North Carolina at Greensboro</td>\n",
       "      <td>19779.0</td>\n",
       "      <td>22695</td>\n",
       "      <td>55495.0</td>\n",
       "      <td>28133.0</td>\n",
       "      <td>44195.0</td>\n",
       "      <td>145</td>\n",
       "    </tr>\n",
       "    <tr>\n",
       "      <th>145</th>\n",
       "      <td>University of Massachusetts-Lowell</td>\n",
       "      <td>28201.0</td>\n",
       "      <td>25000</td>\n",
       "      <td>83011.0</td>\n",
       "      <td>33260.0</td>\n",
       "      <td>65584.0</td>\n",
       "      <td>146</td>\n",
       "    </tr>\n",
       "  </tbody>\n",
       "</table>\n",
       "<p>146 rows × 7 columns</p>\n",
       "</div>"
      ],
      "text/plain": [
       "                                            INSTNM  COSTT4_A GRAD_DEBT_MDN  \\\n",
       "0                               Harvard University   71135.0         13750   \n",
       "1                              Stanford University   69109.0         11750   \n",
       "2            Massachusetts Institute of Technology   67430.0         12500   \n",
       "3                University of California-Berkeley   36739.0         13478   \n",
       "4                             Princeton University   66950.0         10750   \n",
       "..                                             ...       ...           ...   \n",
       "141                          University of Memphis   22676.0         25000   \n",
       "142                                Amherst College   71300.0         13500   \n",
       "143  Missouri University of Science and Technology   22012.0         24250   \n",
       "144     University of North Carolina at Greensboro   19779.0         22695   \n",
       "145             University of Massachusetts-Lowell   28201.0         25000   \n",
       "\n",
       "     PCT75_EARN_WNE_P8  PCT25_EARN_WNE_P8  MD_EARN_WNE_P10  NationalRank  \n",
       "0             135753.0            45980.0          84918.0             1  \n",
       "1             166805.0            58448.0          97798.0             2  \n",
       "2             169114.0            75080.0         111222.0             3  \n",
       "3             117722.0            44547.0          80364.0             4  \n",
       "4             147835.0            56354.0          95689.0             5  \n",
       "..                 ...                ...              ...           ...  \n",
       "141            58368.0            25544.0          43699.0           142  \n",
       "142           117651.0            40980.0          71567.0           143  \n",
       "143            91060.0            43854.0          80289.0           144  \n",
       "144            55495.0            28133.0          44195.0           145  \n",
       "145            83011.0            33260.0          65584.0           146  \n",
       "\n",
       "[146 rows x 7 columns]"
      ]
     },
     "execution_count": 10,
     "metadata": {},
     "output_type": "execute_result"
    }
   ],
   "source": [
    "college_data"
   ]
  },
  {
   "cell_type": "code",
   "execution_count": 11,
   "metadata": {},
   "outputs": [],
   "source": [
    "college_data.to_csv('filtered_2018_2019_college_data.csv')"
   ]
  },
  {
   "cell_type": "code",
   "execution_count": 12,
   "metadata": {},
   "outputs": [
    {
     "data": {
      "text/plain": [
       "<Axes: xlabel='NationalRank', ylabel='COSTT4_A'>"
      ]
     },
     "execution_count": 12,
     "metadata": {},
     "output_type": "execute_result"
    },
    {
     "data": {
      "image/png": "[encoded data removed]",
      "text/plain": [
       "<Figure size 640x480 with 1 Axes>"
      ]
     },
     "metadata": {},
     "output_type": "display_data"
    }
   ],
   "source": [
    "# Comparing rank and average cost \n",
    "sns.scatterplot( data = college_data, x = 'NationalRank', y = 'COSTT4_A')"
   ]
  },
  {
   "cell_type": "code",
   "execution_count": 13,
   "metadata": {},
   "outputs": [
    {
     "data": {
      "text/plain": [
       "<Axes: xlabel='COSTT4_A', ylabel='MD_EARN_WNE_P10'>"
      ]
     },
     "execution_count": 13,
     "metadata": {},
     "output_type": "execute_result"
    },
    {
     "data": {
      "image/png": "[encoded data removed]",
      "text/plain": [
       "<Figure size 640x480 with 1 Axes>"
      ]
     },
     "metadata": {},
     "output_type": "display_data"
    }
   ],
   "source": [
    "# Comparing cost of attendance to median earnings after 10 years \n",
    "sns.scatterplot( data = college_data, x = 'COSTT4_A', y = 'MD_EARN_WNE_P10')"
   ]
  },
  {
   "cell_type": "code",
   "execution_count": 14,
   "metadata": {},
   "outputs": [
    {
     "data": {
      "text/plain": [
       "<Axes: xlabel='NationalRank', ylabel='MD_EARN_WNE_P10'>"
      ]
     },
     "execution_count": 14,
     "metadata": {},
     "output_type": "execute_result"
    },
    {
     "data": {
      "image/png": "[encoded data removed]",
      "text/plain": [
       "<Figure size 640x480 with 1 Axes>"
      ]
     },
     "metadata": {},
     "output_type": "display_data"
    }
   ],
   "source": [
    "# Comapring rank and median earnings after 10 years\n",
    "sns.scatterplot( data = college_data, x = 'NationalRank', y = 'MD_EARN_WNE_P10')"
   ]
  },
  {
   "cell_type": "code",
   "execution_count": 15,
   "metadata": {},
   "outputs": [
    {
     "data": {
      "text/plain": [
       "<Axes: xlabel='NationalRank', ylabel='PCT75_EARN_WNE_P8'>"
      ]
     },
     "execution_count": 15,
     "metadata": {},
     "output_type": "execute_result"
    },
    {
     "data": {
      "image/png": "[encoded data removed]",
      "text/plain": [
       "<Figure size 640x480 with 1 Axes>"
      ]
     },
     "metadata": {},
     "output_type": "display_data"
    }
   ],
   "source": [
    "sns.scatterplot( data = college_data, x = 'NationalRank', y = 'PCT75_EARN_WNE_P8')"
   ]
  }
 ],
 "metadata": {
  "kernelspec": {
   "display_name": "Python 3",
   "language": "python",
   "name": "python3"
  },
  "language_info": {
   "codemirror_mode": {
    "name": "ipython",
    "version": 3
   },
   "file_extension": ".py",
   "mimetype": "text/x-python",
   "name": "python",
   "nbconvert_exporter": "python",
   "pygments_lexer": "ipython3",
   "version": "3.12.1"
  }
 },
 "nbformat": 4,
 "nbformat_minor": 2
}

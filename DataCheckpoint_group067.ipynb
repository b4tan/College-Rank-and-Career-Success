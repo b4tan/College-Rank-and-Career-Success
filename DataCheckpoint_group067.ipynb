{
 "cells": [
  {
   "cell_type": "markdown",
   "metadata": {},
   "source": [
    "**If you lost points on the last checkpoint you can get them back by responding to TA/IA feedback**  \n",
    "\n",
    "Update/change the relevant sections where you lost those points, make sure you respond on GitHub Issues to your TA/IA to call their attention to the changes you made here.\n",
    "\n",
    "Please update your Timeline... no battle plan survives contact with the enemy, so make sure we understand how your plans have changed."
   ]
  },
  {
   "cell_type": "markdown",
   "metadata": {},
   "source": [
    "# COGS 108 - Data Checkpoint"
   ]
  },
  {
   "cell_type": "markdown",
   "metadata": {},
   "source": [
    "# Names\n",
    "\n",
    "- Alex Franz\n",
    "- Bryant Tan\n",
    "- Cole Carter\n",
    "- Henri Schulz"
   ]
  },
  {
   "cell_type": "markdown",
   "metadata": {},
   "source": [
    "# Research Question"
   ]
  },
  {
   "cell_type": "markdown",
   "metadata": {},
   "source": [
    "Does a higher Center for World University Rankings ranking increase financial return on invest (ROI) at a US university in 2018-2019 where financial ROI is measured by the cost of tuition, loan repayment rate, average debt, and post-graduation earnings ?\n",
    "\n"
   ]
  },
  {
   "cell_type": "markdown",
   "metadata": {},
   "source": [
    "## Background and Prior Work"
   ]
  },
  {
   "cell_type": "markdown",
   "metadata": {},
   "source": [
    "### Introduction to the Topic\n",
    "\n",
    "\n",
    "The influence of the prestige of a university on career success is a significant area of research, especially in fields like engineering where educational pedigree may impact job opportunities and earnings potential. The discussion typically revolves around whether the advantages of attending a top-tier university, such as enhanced learning environments, better networking opportunities, and elevated prestige, translate into tangible career benefits like higher salaries, job satisfaction, and overall career advancement. Generally, attending a prestigious institution has been associated with higher success rates, but the question remains: does the cost of tuition justify these outcomes?\n",
    "\n",
    "\n",
    "### Prior Research and Findings\n",
    "\n",
    "\n",
    "An article provided by NBC News notes significant differences in starting salaries among graduates from universities of varying prestige. For instance, graduates from the University of Southern California have a notable starting salary advantage over those from lesser-known institutions and that graduates from Yale have an average starting salary of \\${68,300}, significantly higher than the \\${32,000} starting salary for graduates from Mississippi Valley State University. <sup id=\"cite_ref-1\">[1](#cite_note-1)</sup> This highlights the economic benefit of attending more prestigious universities.\n",
    "\n",
    "\n",
    "Further research indicates that while the cost of attending college has dramatically increased, the financial benefits such as earnings growth have not kept pace. Specifically, college costs have risen by 169% over the past four decades, while earnings for workers between the ages of 22 and 27 have increased by just 19%, according to an analysis of U.S. Census, Bureau of Labor Statistics, and National Center for Education Statistics data. <sup id=\"cite_ref-2\">[2](#cite_note-2)</sup> This disparity raises questions about the economic return on investment of higher education, particularly from less prestigious institutions.\n",
    "\n",
    "\n",
    "Additionally, a study exploring the quality of working life among university academics reveals that work-life balance, job and career satisfaction, and working conditions significantly affect employee commitment and stress levels, ultimately impacting overall well-being. It emphasizes that higher-ranked universities tend to offer better job security and more supportive working conditions, which not only enhance personal well-being but also improve job satisfaction <sup id=\"cite_ref-3\">[3](#cite_note-3)</sup> This research underscores the importance of university environment and job security, particularly in contrasting permanent versus temporary academic roles, and highlights the subtle effects of university prestige not only on earnings but also on job satisfaction and personal well-being.\n",
    "\n",
    "\n",
    "### Relevance to Current Project\n",
    "\n",
    "\n",
    "This previous work sets a foundational understanding that while the reputation of an educational institution may not universally guarantee better job prospects or earnings, it does provide certain groups with measurable advantages. The current project can build on these findings by more specifically analyzing how these outcomes vary among engineering graduates, where the impact of a university's rank might be more pronounced due to the technical and often competitive nature of the field.\n",
    "\n",
    "\n",
    "### References\n",
    "- <sup id=\"cite_note-1\">1</sup> [NBC News](https://www.nbcnews.com/business/business-news/does-it-even-matter-where-you-go-college-here-s-n982851) Report on the influence of university prestige on starting salaries and career success.\n",
    "- <sup id=\"cite_note-2\">2</sup> [CNBC News](https://www.cnbc.com/2021/11/02/the-gap-in-college-costs-and-earnings-for-young-workers-since-1980.html) College costs have increased by 169% since 1980—but pay for young workers is up by just 19%: Georgetown report\n",
    "- <sup id=\"cite_note-3\">3</sup> [Research Gate](https://www.researchgate.net/publication/305689177_Quality_of_working_life_of_academics_and_researchers_in_the_UK_the_roles_of_contract_type_tenure_and_university_ranking) Fontinha, R., Van Laar, D., & Easton, S. (2018). *Quality of working life of academics and researchers in the UK: the roles of contract type, tenure and university ranking*. Studies in Higher Education, 43(4), 786–806.\n"
   ]
  },
  {
   "cell_type": "markdown",
   "metadata": {},
   "source": [
    "# Hypothesis\n"
   ]
  },
  {
   "cell_type": "markdown",
   "metadata": {},
   "source": [
    "\n",
    "We hypothesize that a higher university rank will correlate to a higher return on investment because higher ranked colleges hold more merit in industry and academia, resulting in better opportunities for graduates from highly ranked colleges as compared to lower ranked colleges."
   ]
  },
  {
   "cell_type": "markdown",
   "metadata": {},
   "source": [
    "# Data"
   ]
  },
  {
   "cell_type": "markdown",
   "metadata": {},
   "source": [
    "## Data overview\n",
    "\n",
    "- Dataset #1\n",
    "  - Dataset Name: Department of Education College Scorecard\n",
    "  - Link to the dataset: [https://collegescorecard.ed.gov/data/](https://collegescorecard.ed.gov/data/)\n",
    "  - Number of observations: 6694\n",
    "  - Number of variables: 3244\n",
    "- Dataset #2\n",
    "  - Dataset Name: Center for World University Ranking 2018-2019\n",
    "  - Link to the dataset: [https://www.kaggle.com/datasets/erfansobhaei/ultimate-university-ranking](https://www.kaggle.com/datasets/erfansobhaei/ultimate-university-ranking)\n",
    "  - Number of observations: 1000\n",
    "  - Number of variables: 12\n",
    "\n",
    "__Dataset #1 Description__\n",
    "\n",
    "This dataset includes a plethora of college data from 6694 different colleges in the US regarding admissions, financial aid, earnings after college, etc. We plan to use this dataset to extract the median cost of attendence, debt repayment rates in percentages at 1, 4, and 5 years after college, median earnings at 1, 4, and 10 years after college. With these metrics, we will be able to establish a quantitative heuristic for the return on investment of a given institution. To perform this analysis, we will have to filter our dataset to include only columns of potential interest, discard any columns of interest with an excessive proportion of NaN values, and combine duplicate metrics across different columns to generate an accurate depiction of our desired metrics.\n",
    "__Datset #2 Description__\n",
    "\n",
    "Our second dataset will be used to identify the rankings of colleges. It contains important variables such as world ranking and national ranking. This dataset will be used to filter out schools from the College Scorecard data we want to include in our study, as well as include ranking data in our overall combined dataset. The combined dataset will be sorted according to the institutions' world rank as determied by the CWUR rankings.\n"
   ]
  },
  {
   "cell_type": "markdown",
   "metadata": {},
   "source": [
    "## Department of Education College Scorecard"
   ]
  },
  {
   "cell_type": "code",
   "execution_count": 1,
   "metadata": {},
   "outputs": [
    {
     "name": "stderr",
     "output_type": "stream",
     "text": [
      "/var/folders/3p/y0vk1fkd5sngg7zjfqnb2sv80000gn/T/ipykernel_45056/3827269211.py:4: DtypeWarning: Columns (1503,1517,1729,1909,1910,1911,1912,1913,2376,2377,2958) have mixed types. Specify dtype option on import or set low_memory=False.\n",
      "  scorecard = pd.read_csv('College_Scorecard_Data.csv')\n"
     ]
    },
    {
     "name": "stdout",
     "output_type": "stream",
     "text": [
      "Shape (6694, 3244)\n"
     ]
    },
    {
     "data": {
      "text/html": [
       "<div>\n",
       "<style scoped>\n",
       "    .dataframe tbody tr th:only-of-type {\n",
       "        vertical-align: middle;\n",
       "    }\n",
       "\n",
       "    .dataframe tbody tr th {\n",
       "        vertical-align: top;\n",
       "    }\n",
       "\n",
       "    .dataframe thead th {\n",
       "        text-align: right;\n",
       "    }\n",
       "</style>\n",
       "<table border=\"1\" class=\"dataframe\">\n",
       "  <thead>\n",
       "    <tr style=\"text-align: right;\">\n",
       "      <th></th>\n",
       "      <th>UNITID</th>\n",
       "      <th>OPEID</th>\n",
       "      <th>OPEID6</th>\n",
       "      <th>INSTNM</th>\n",
       "      <th>CITY</th>\n",
       "      <th>STABBR</th>\n",
       "      <th>ZIP</th>\n",
       "      <th>ACCREDAGENCY</th>\n",
       "      <th>INSTURL</th>\n",
       "      <th>NPCURL</th>\n",
       "      <th>...</th>\n",
       "      <th>DCS_PELL_LOAN</th>\n",
       "      <th>PCTPELL_DCS_POOLED_SUPP</th>\n",
       "      <th>PCTFLOAN_DCS_POOLED_SUPP</th>\n",
       "      <th>DCS_PELL_LOAN_POOLED</th>\n",
       "      <th>POOLYRS_DCS</th>\n",
       "      <th>SATVR50</th>\n",
       "      <th>SATMT50</th>\n",
       "      <th>ACTCM50</th>\n",
       "      <th>ACTEN50</th>\n",
       "      <th>ACTMT50</th>\n",
       "    </tr>\n",
       "  </thead>\n",
       "  <tbody>\n",
       "    <tr>\n",
       "      <th>0</th>\n",
       "      <td>100654</td>\n",
       "      <td>100200</td>\n",
       "      <td>1002</td>\n",
       "      <td>Alabama A &amp; M University</td>\n",
       "      <td>Normal</td>\n",
       "      <td>AL</td>\n",
       "      <td>35762</td>\n",
       "      <td>NaN</td>\n",
       "      <td>NaN</td>\n",
       "      <td>NaN</td>\n",
       "      <td>...</td>\n",
       "      <td>NaN</td>\n",
       "      <td>NaN</td>\n",
       "      <td>NaN</td>\n",
       "      <td>NaN</td>\n",
       "      <td>NaN</td>\n",
       "      <td>NaN</td>\n",
       "      <td>NaN</td>\n",
       "      <td>NaN</td>\n",
       "      <td>NaN</td>\n",
       "      <td>NaN</td>\n",
       "    </tr>\n",
       "    <tr>\n",
       "      <th>1</th>\n",
       "      <td>100663</td>\n",
       "      <td>105200</td>\n",
       "      <td>1052</td>\n",
       "      <td>University of Alabama at Birmingham</td>\n",
       "      <td>Birmingham</td>\n",
       "      <td>AL</td>\n",
       "      <td>35294-0110</td>\n",
       "      <td>NaN</td>\n",
       "      <td>NaN</td>\n",
       "      <td>NaN</td>\n",
       "      <td>...</td>\n",
       "      <td>NaN</td>\n",
       "      <td>NaN</td>\n",
       "      <td>NaN</td>\n",
       "      <td>NaN</td>\n",
       "      <td>NaN</td>\n",
       "      <td>NaN</td>\n",
       "      <td>NaN</td>\n",
       "      <td>NaN</td>\n",
       "      <td>NaN</td>\n",
       "      <td>NaN</td>\n",
       "    </tr>\n",
       "    <tr>\n",
       "      <th>2</th>\n",
       "      <td>100690</td>\n",
       "      <td>2503400</td>\n",
       "      <td>25034</td>\n",
       "      <td>Amridge University</td>\n",
       "      <td>Montgomery</td>\n",
       "      <td>AL</td>\n",
       "      <td>36117-3553</td>\n",
       "      <td>NaN</td>\n",
       "      <td>NaN</td>\n",
       "      <td>NaN</td>\n",
       "      <td>...</td>\n",
       "      <td>NaN</td>\n",
       "      <td>NaN</td>\n",
       "      <td>NaN</td>\n",
       "      <td>NaN</td>\n",
       "      <td>NaN</td>\n",
       "      <td>NaN</td>\n",
       "      <td>NaN</td>\n",
       "      <td>NaN</td>\n",
       "      <td>NaN</td>\n",
       "      <td>NaN</td>\n",
       "    </tr>\n",
       "    <tr>\n",
       "      <th>3</th>\n",
       "      <td>100706</td>\n",
       "      <td>105500</td>\n",
       "      <td>1055</td>\n",
       "      <td>University of Alabama in Huntsville</td>\n",
       "      <td>Huntsville</td>\n",
       "      <td>AL</td>\n",
       "      <td>35899</td>\n",
       "      <td>NaN</td>\n",
       "      <td>NaN</td>\n",
       "      <td>NaN</td>\n",
       "      <td>...</td>\n",
       "      <td>NaN</td>\n",
       "      <td>NaN</td>\n",
       "      <td>NaN</td>\n",
       "      <td>NaN</td>\n",
       "      <td>NaN</td>\n",
       "      <td>NaN</td>\n",
       "      <td>NaN</td>\n",
       "      <td>NaN</td>\n",
       "      <td>NaN</td>\n",
       "      <td>NaN</td>\n",
       "    </tr>\n",
       "    <tr>\n",
       "      <th>4</th>\n",
       "      <td>100724</td>\n",
       "      <td>100500</td>\n",
       "      <td>1005</td>\n",
       "      <td>Alabama State University</td>\n",
       "      <td>Montgomery</td>\n",
       "      <td>AL</td>\n",
       "      <td>36104-0271</td>\n",
       "      <td>NaN</td>\n",
       "      <td>NaN</td>\n",
       "      <td>NaN</td>\n",
       "      <td>...</td>\n",
       "      <td>NaN</td>\n",
       "      <td>NaN</td>\n",
       "      <td>NaN</td>\n",
       "      <td>NaN</td>\n",
       "      <td>NaN</td>\n",
       "      <td>NaN</td>\n",
       "      <td>NaN</td>\n",
       "      <td>NaN</td>\n",
       "      <td>NaN</td>\n",
       "      <td>NaN</td>\n",
       "    </tr>\n",
       "  </tbody>\n",
       "</table>\n",
       "<p>5 rows × 3244 columns</p>\n",
       "</div>"
      ],
      "text/plain": [
       "   UNITID    OPEID  OPEID6                               INSTNM        CITY  \\\n",
       "0  100654   100200    1002             Alabama A & M University      Normal   \n",
       "1  100663   105200    1052  University of Alabama at Birmingham  Birmingham   \n",
       "2  100690  2503400   25034                   Amridge University  Montgomery   \n",
       "3  100706   105500    1055  University of Alabama in Huntsville  Huntsville   \n",
       "4  100724   100500    1005             Alabama State University  Montgomery   \n",
       "\n",
       "  STABBR         ZIP  ACCREDAGENCY  INSTURL  NPCURL  ...  DCS_PELL_LOAN  \\\n",
       "0     AL       35762           NaN      NaN     NaN  ...            NaN   \n",
       "1     AL  35294-0110           NaN      NaN     NaN  ...            NaN   \n",
       "2     AL  36117-3553           NaN      NaN     NaN  ...            NaN   \n",
       "3     AL       35899           NaN      NaN     NaN  ...            NaN   \n",
       "4     AL  36104-0271           NaN      NaN     NaN  ...            NaN   \n",
       "\n",
       "   PCTPELL_DCS_POOLED_SUPP  PCTFLOAN_DCS_POOLED_SUPP  DCS_PELL_LOAN_POOLED  \\\n",
       "0                      NaN                       NaN                   NaN   \n",
       "1                      NaN                       NaN                   NaN   \n",
       "2                      NaN                       NaN                   NaN   \n",
       "3                      NaN                       NaN                   NaN   \n",
       "4                      NaN                       NaN                   NaN   \n",
       "\n",
       "   POOLYRS_DCS  SATVR50  SATMT50  ACTCM50  ACTEN50  ACTMT50  \n",
       "0          NaN      NaN      NaN      NaN      NaN      NaN  \n",
       "1          NaN      NaN      NaN      NaN      NaN      NaN  \n",
       "2          NaN      NaN      NaN      NaN      NaN      NaN  \n",
       "3          NaN      NaN      NaN      NaN      NaN      NaN  \n",
       "4          NaN      NaN      NaN      NaN      NaN      NaN  \n",
       "\n",
       "[5 rows x 3244 columns]"
      ]
     },
     "execution_count": 83,
     "metadata": {},
     "output_type": "execute_result"
    }
   ],
   "source": [
    "import pandas as pd\n",
    "\n",
    "# Import data\n",
    "scorecard = pd.read_csv('Data/College_Scorecard_Data.csv') \n",
    "\n",
    "print(\"Shape\", scorecard.shape) # Display shape\n",
    "scorecard.head() # Display some data"
   ]
  },
  {
   "cell_type": "markdown",
   "metadata": {},
   "source": [
    "## Center for World University Rankings 2018-2019"
   ]
  },
  {
   "cell_type": "code",
   "execution_count": 84,
   "metadata": {},
   "outputs": [
    {
     "name": "stdout",
     "output_type": "stream",
     "text": [
      "Shape (1000, 12)\n"
     ]
    },
    {
     "data": {
      "text/html": [
       "<div>\n",
       "<style scoped>\n",
       "    .dataframe tbody tr th:only-of-type {\n",
       "        vertical-align: middle;\n",
       "    }\n",
       "\n",
       "    .dataframe tbody tr th {\n",
       "        vertical-align: top;\n",
       "    }\n",
       "\n",
       "    .dataframe thead th {\n",
       "        text-align: right;\n",
       "    }\n",
       "</style>\n",
       "<table border=\"1\" class=\"dataframe\">\n",
       "  <thead>\n",
       "    <tr style=\"text-align: right;\">\n",
       "      <th></th>\n",
       "      <th>World Rank</th>\n",
       "      <th>Institution</th>\n",
       "      <th>Location</th>\n",
       "      <th>National Rank</th>\n",
       "      <th>Quality of Education</th>\n",
       "      <th>Alumni Employment</th>\n",
       "      <th>Quality of Faculty</th>\n",
       "      <th>Research Output</th>\n",
       "      <th>Quality Publications</th>\n",
       "      <th>Influence</th>\n",
       "      <th>Citations</th>\n",
       "      <th>Score</th>\n",
       "    </tr>\n",
       "  </thead>\n",
       "  <tbody>\n",
       "    <tr>\n",
       "      <th>0</th>\n",
       "      <td>1</td>\n",
       "      <td>Harvard University</td>\n",
       "      <td>USA</td>\n",
       "      <td>1</td>\n",
       "      <td>2</td>\n",
       "      <td>1</td>\n",
       "      <td>1</td>\n",
       "      <td>1</td>\n",
       "      <td>1</td>\n",
       "      <td>1</td>\n",
       "      <td>1</td>\n",
       "      <td>100.0</td>\n",
       "    </tr>\n",
       "    <tr>\n",
       "      <th>1</th>\n",
       "      <td>2</td>\n",
       "      <td>Stanford University</td>\n",
       "      <td>USA</td>\n",
       "      <td>2</td>\n",
       "      <td>10</td>\n",
       "      <td>3</td>\n",
       "      <td>2</td>\n",
       "      <td>10</td>\n",
       "      <td>4</td>\n",
       "      <td>3</td>\n",
       "      <td>2</td>\n",
       "      <td>96.7</td>\n",
       "    </tr>\n",
       "    <tr>\n",
       "      <th>2</th>\n",
       "      <td>3</td>\n",
       "      <td>Massachusetts Institute of Technology</td>\n",
       "      <td>USA</td>\n",
       "      <td>3</td>\n",
       "      <td>3</td>\n",
       "      <td>11</td>\n",
       "      <td>3</td>\n",
       "      <td>30</td>\n",
       "      <td>15</td>\n",
       "      <td>2</td>\n",
       "      <td>6</td>\n",
       "      <td>95.1</td>\n",
       "    </tr>\n",
       "    <tr>\n",
       "      <th>3</th>\n",
       "      <td>4</td>\n",
       "      <td>University of Cambridge</td>\n",
       "      <td>United Kingdom</td>\n",
       "      <td>1</td>\n",
       "      <td>5</td>\n",
       "      <td>19</td>\n",
       "      <td>6</td>\n",
       "      <td>12</td>\n",
       "      <td>8</td>\n",
       "      <td>6</td>\n",
       "      <td>19</td>\n",
       "      <td>94.0</td>\n",
       "    </tr>\n",
       "    <tr>\n",
       "      <th>4</th>\n",
       "      <td>5</td>\n",
       "      <td>University of Oxford</td>\n",
       "      <td>United Kingdom</td>\n",
       "      <td>2</td>\n",
       "      <td>9</td>\n",
       "      <td>25</td>\n",
       "      <td>10</td>\n",
       "      <td>9</td>\n",
       "      <td>5</td>\n",
       "      <td>7</td>\n",
       "      <td>4</td>\n",
       "      <td>93.2</td>\n",
       "    </tr>\n",
       "  </tbody>\n",
       "</table>\n",
       "</div>"
      ],
      "text/plain": [
       "   World Rank                            Institution        Location  \\\n",
       "0           1                     Harvard University             USA   \n",
       "1           2                    Stanford University             USA   \n",
       "2           3  Massachusetts Institute of Technology             USA   \n",
       "3           4                University of Cambridge  United Kingdom   \n",
       "4           5                   University of Oxford  United Kingdom   \n",
       "\n",
       "   National Rank Quality of Education Alumni Employment Quality of Faculty  \\\n",
       "0              1                    2                 1                  1   \n",
       "1              2                   10                 3                  2   \n",
       "2              3                    3                11                  3   \n",
       "3              1                    5                19                  6   \n",
       "4              2                    9                25                 10   \n",
       "\n",
       "  Research Output Quality Publications Influence Citations  Score  \n",
       "0               1                    1         1         1  100.0  \n",
       "1              10                    4         3         2   96.7  \n",
       "2              30                   15         2         6   95.1  \n",
       "3              12                    8         6        19   94.0  \n",
       "4               9                    5         7         4   93.2  "
      ]
     },
     "execution_count": 2,
     "metadata": {},
     "output_type": "execute_result"
    }
   ],
   "source": [
    "# Read the original CSV file\n",
    "rankings = pd.read_csv('Data/CWUR_2018-2019.csv')\n",
    "\n",
    "print(\"Shape\", rankings.shape) # Display shape\n",
    "rankings.head() # Display some data"
   ]
  },
  {
   "cell_type": "markdown",
   "metadata": {},
   "source": [
    "# Ethics & Privacy"
   ]
  },
  {
   "cell_type": "markdown",
   "metadata": {},
   "source": [
    "When managing ethics and privacy, we wanted to dive deeper into getting data from a better source. We have gone about this by going to the place that governs it all in the US. The data we were able to grab was from a .gov website regarding college scorecards. This data came from an enormous dataset that tracked lots of different metrics about schools. \n",
    "\n",
    "Now, when looking at what kinds of biases might have come forth from the datasets. First to start with the easier one, for dataset #2, the data is ranking colleges and it was we took the US schools from a global ranking of colleges. Some biases for this are that it includes both private and public schools in the same list, the metrics that they used to rank the schools might not be what everyone agrees with, and it might not consider things like the demographics or the socioeconomic background that one might need to have to attend one of these colleges. However, despite these potential biases, the Center for World University Ranking's frequent updates to their data, their frequency of use in other studies, and their overall reputatition suggests that while these rankings may not be in absolutely perfect order, they are in general reflective of the prestige of schools and therefore are sufficient to draw conclusions about the effect of rank across a large range of rankings.\n",
    "\n",
    "As for the actual College Scoreboard data, regarding biases, while we are going to look at only the top schools from our other list, the data may not cover all of the school equally. The schools that are more popular may have more information for the government to make assessments about. There could be things like geographical bias based on where the writers of the reports and datasets are located. It also might have socioeconomic biases due to the fact that some economic factors can be hidden in the data and not portray the data fairly. One of the better things is that there are no individuals in the dataset, it is all somewhat normalized, hopefully this leads to a more accurate representation of the schools. On the flip side though, it could hide the fact that they only sampled misrepresentations of the individual schools. We could always add a little bit of noise for each college to make try and even it out even more that way.\n",
    "\n",
    "Finally we are going to do our best to keep our analysis to be as non-biased as possible. We will not state anything to be fact, and just what we found based on our analysis and we will be super transparent about where we got our data. It is never our intention to come up with conclusions that could reflect badly or could be misued on any college or group of people."
   ]
  },
  {
   "cell_type": "markdown",
   "metadata": {},
   "source": [
    "# Team Expectations "
   ]
  },
  {
   "cell_type": "markdown",
   "metadata": {},
   "source": [
    "\n",
    "* Respond to messages from other team members within 24 hours\n",
    "* Weekly check-in to update team progress\n",
    "* If a member has to miss a meeting, message the other members\n",
    "* Treat all members with respect\n",
    "* Always be willing to help out members if they ask\n",
    "* Get the work done assigned to you in a timely manner\n",
    "* Communicate with the rest of the team if you're stuck"
   ]
  },
  {
   "cell_type": "markdown",
   "metadata": {},
   "source": [
    "# Project Timeline Proposal"
   ]
  },
  {
   "cell_type": "markdown",
   "metadata": {},
   "source": [
    "| Meeting Date  | Meeting Time| Completed Before Meeting  | Discuss at Meeting |\n",
    "|---|---|---|---|\n",
    "| 5/1  |  5 PM | Brainstorm ideas for projects  | Determine our research question and split up Project Proposal sections | \n",
    "| 5/8  |  5 PM | Identify potential data sources  | Finalize data sources and plan for data schema. Assign data wrangling tasks | \n",
    "| 5/15  | 5 PM  | Complete data wrangling necessary for EDA  | Discuss goals of EDA and what we are looking for | \n",
    "| 5/22  | 5 PM  | Complete EDA  | Compare results for EDA and do writeup. Discuss plans for analysis and assign individual tasks | \n",
    "| 5/29  | 5 PM  | Start individual analysis tasks  | Compare analysis results | \n",
    "| 6/4  | 5 PM  | Refine analysis and start drafting final write-up sections  | Finalize analysis and focus on writeup | \n",
    "| 5/11 | 5 PM  | Finish writeup second drafts | Finalize project and submit |"
   ]
  }
 ],
 "metadata": {
  "kernelspec": {
   "display_name": "Python 3 (ipykernel)",
   "language": "python",
   "name": "python3"
  },
  "language_info": {
   "codemirror_mode": {
    "name": "ipython",
    "version": 3
   },
   "file_extension": ".py",
   "mimetype": "text/x-python",
   "name": "python",
   "nbconvert_exporter": "python",
   "pygments_lexer": "ipython3",
   "version": "3.12.1"
  }
 },
 "nbformat": 4,
 "nbformat_minor": 2
}
